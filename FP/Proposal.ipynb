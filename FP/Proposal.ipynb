{
 "cells": [
  {
   "cell_type": "markdown",
   "metadata": {},
   "source": [
    "Erin Witmer"
   ]
  },
  {
   "cell_type": "markdown",
   "metadata": {},
   "source": [
    "CSC 440"
   ]
  },
  {
   "cell_type": "markdown",
   "metadata": {},
   "source": [
    "# Dataset Choice"
   ]
  },
  {
   "cell_type": "markdown",
   "metadata": {},
   "source": [
    "The proposal is to analyze the dataset: “House Prices: Advanced Regression Techniques” available via Kaggle. This dataset aligns with my educational background and previous work experience. My undergraduate degree is in finance and economics. I am a Chartered Financial Analyst and have over a decade of work experience in the investment industry. My previous work includes asset valuation and pricing.  \n",
    "\n",
    "Real estate, specifically residential real estate is an asset that is unique in many ways. Residential real estate is an illiquid asset with high transaction costs. Unlike, for example, shares of common stock in Apple (APPL), every residential dwelling is a unique asset. Transactions often occur between unsophisticated parties with highly asymmetric information. There is a large degree of emotion and economically irrational behavior involved each transaction and the resulting sale price. These include psychological phenomena such as anchoring to a purchase price, and factors independent of market forces motivating buy/sell decisions such as relocation or new baby. As such, I am intrigued by the challenge of modeling this highly inefficient market. "
   ]
  },
  {
   "cell_type": "markdown",
   "metadata": {},
   "source": [
    "# Team composition"
   ]
  },
  {
   "cell_type": "markdown",
   "metadata": {},
   "source": [
    "I (Erin Witmer) will be working solo on the final project. I am a part-time student pursuing a M.S. in Computer Science."
   ]
  },
  {
   "cell_type": "markdown",
   "metadata": {},
   "source": [
    "# Goal of the Analysis"
   ]
  },
  {
   "cell_type": "markdown",
   "metadata": {},
   "source": [
    "Utilize supervised learning techniques to develop a model for predicting the final sales price of homes in the test data set. Performance will be measured by Root Mean Squared Logarithmic Error."
   ]
  },
  {
   "cell_type": "markdown",
   "metadata": {},
   "source": [
    "# Planned technical approach"
   ]
  },
  {
   "cell_type": "markdown",
   "metadata": {},
   "source": [
    "## Data visualization"
   ]
  },
  {
   "cell_type": "markdown",
   "metadata": {},
   "source": [
    "The first step will be to understand the data better through basic visualization."
   ]
  },
  {
   "cell_type": "markdown",
   "metadata": {},
   "source": [
    "## Data preprocessing"
   ]
  },
  {
   "cell_type": "markdown",
   "metadata": {},
   "source": [
    "A cursory review of the data reveals some missing data values, frequent use of NaN indicating features not relevant to the property and inconsistent coding of features. Data preprocessing will be required to clean the dataset. "
   ]
  },
  {
   "cell_type": "markdown",
   "metadata": {},
   "source": [
    "## Model selection"
   ]
  },
  {
   "cell_type": "markdown",
   "metadata": {},
   "source": [
    "The baseline model used will be Naive Bayes. More complex modeling will be compared to this as a baseline. Naive Bayes will require additional preprocessing to bin the prediction categories.  \n",
    "\n",
    "A preliminary analysis suggests the most significant challenge with this dataset will be working with the high dimensionality of the data. A preliminary review of relevant literature suggests a model to explore is the Lasso Model. In essence, it is a linear regression model that balances the trade-off between fit of the data and feature proliferation and aids in dimensionality reduction through feature selection. Adaptive Lasso is an enhancement to Lasso which I also plan to explore. In addition to regression models, I plan to compare the results of regression models with those of classification models and explore relevant literature on optimal algorithms for classification in high dimensional space.  \n",
    "\n",
    "In addition to these techniques, I also plan to explore the affect of principal component analysis on results, as a different technique for reducing dimensionality. \n",
    "\n",
    "From an economic perspective, it seems as though first clustering followed by running these regression/classification analyses may also improve the efficacy of the model. That is because the buyers of homes in the 50-100K range may prioritize different features than buyers of homes in the 500-750K range. So first clustering the data, perhaps with the EM method, will be explored as an extension to the stand alone regression/categorization analyses."
   ]
  },
  {
   "cell_type": "markdown",
   "metadata": {},
   "source": [
    "# Role of team members"
   ]
  },
  {
   "cell_type": "markdown",
   "metadata": {},
   "source": [
    "I will be performing all of the steps outlined above as well as delivering the final in class presentation."
   ]
  },
  {
   "cell_type": "code",
   "execution_count": null,
   "metadata": {},
   "outputs": [],
   "source": []
  }
 ],
 "metadata": {
  "kernelspec": {
   "display_name": "Python 3",
   "language": "python",
   "name": "python3"
  },
  "language_info": {
   "codemirror_mode": {
    "name": "ipython",
    "version": 3
   },
   "file_extension": ".py",
   "mimetype": "text/x-python",
   "name": "python",
   "nbconvert_exporter": "python",
   "pygments_lexer": "ipython3",
   "version": "3.6.5"
  }
 },
 "nbformat": 4,
 "nbformat_minor": 2
}
