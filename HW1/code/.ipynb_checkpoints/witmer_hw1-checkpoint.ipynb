{
 "cells": [
  {
   "cell_type": "code",
   "execution_count": 185,
   "metadata": {},
   "outputs": [],
   "source": [
    "# import statements\n",
    "import numpy as np\n",
    "import matplotlib.pyplot as plt\n",
    "import pandas as pd\n",
    "import os\n",
    "%matplotlib inline"
   ]
  },
  {
   "cell_type": "markdown",
   "metadata": {},
   "source": [
    "## Import and clean data"
   ]
  },
  {
   "cell_type": "code",
   "execution_count": 3,
   "metadata": {},
   "outputs": [],
   "source": [
    "# files are saved in names folder at same level as cwd\n",
    "path = os.getcwd()+'/names'\n",
    "\n",
    "# empty list object\n",
    "baby_all = []\n",
    "\n",
    "# import all files and append rows to list\n",
    "# add column for year based on filename\n",
    "for filename in os.listdir(path):\n",
    "    if filename.endswith(\".txt\"):\n",
    "        file = 'names/'+filename\n",
    "        year = filename[3:7]\n",
    "        curr = pd.read_csv(file, names=['name', 'gender', 'total'])\n",
    "        baby_all.append(curr)\n",
    "        baby_all[-1]['year'] = year\n",
    "\n",
    "# concat all list items into a datafr\n",
    "df = pd.concat(baby_all)\n",
    "\n",
    "# index by year, gender, name, count\n",
    "\n",
    "df_indexed = df.reindex(columns=['year', 'gender', 'name', 'total']).sort_values(by=['year', 'gender', 'total'], ascending=[True, True, False])"
   ]
  },
  {
   "cell_type": "code",
   "execution_count": 4,
   "metadata": {},
   "outputs": [
    {
     "data": {
      "text/html": [
       "<div>\n",
       "<style scoped>\n",
       "    .dataframe tbody tr th:only-of-type {\n",
       "        vertical-align: middle;\n",
       "    }\n",
       "\n",
       "    .dataframe tbody tr th {\n",
       "        vertical-align: top;\n",
       "    }\n",
       "\n",
       "    .dataframe thead th {\n",
       "        text-align: right;\n",
       "    }\n",
       "</style>\n",
       "<table border=\"1\" class=\"dataframe\">\n",
       "  <thead>\n",
       "    <tr style=\"text-align: right;\">\n",
       "      <th></th>\n",
       "      <th>year</th>\n",
       "      <th>gender</th>\n",
       "      <th>name</th>\n",
       "      <th>total</th>\n",
       "    </tr>\n",
       "  </thead>\n",
       "  <tbody>\n",
       "    <tr>\n",
       "      <th>0</th>\n",
       "      <td>1880</td>\n",
       "      <td>F</td>\n",
       "      <td>Mary</td>\n",
       "      <td>7065</td>\n",
       "    </tr>\n",
       "    <tr>\n",
       "      <th>1</th>\n",
       "      <td>1880</td>\n",
       "      <td>F</td>\n",
       "      <td>Anna</td>\n",
       "      <td>2604</td>\n",
       "    </tr>\n",
       "    <tr>\n",
       "      <th>2</th>\n",
       "      <td>1880</td>\n",
       "      <td>F</td>\n",
       "      <td>Emma</td>\n",
       "      <td>2003</td>\n",
       "    </tr>\n",
       "    <tr>\n",
       "      <th>3</th>\n",
       "      <td>1880</td>\n",
       "      <td>F</td>\n",
       "      <td>Elizabeth</td>\n",
       "      <td>1939</td>\n",
       "    </tr>\n",
       "    <tr>\n",
       "      <th>4</th>\n",
       "      <td>1880</td>\n",
       "      <td>F</td>\n",
       "      <td>Minnie</td>\n",
       "      <td>1746</td>\n",
       "    </tr>\n",
       "  </tbody>\n",
       "</table>\n",
       "</div>"
      ],
      "text/plain": [
       "   year gender       name  total\n",
       "0  1880      F       Mary   7065\n",
       "1  1880      F       Anna   2604\n",
       "2  1880      F       Emma   2003\n",
       "3  1880      F  Elizabeth   1939\n",
       "4  1880      F     Minnie   1746"
      ]
     },
     "execution_count": 4,
     "metadata": {},
     "output_type": "execute_result"
    }
   ],
   "source": [
    "# check head\n",
    "df_indexed.head()"
   ]
  },
  {
   "cell_type": "code",
   "execution_count": 5,
   "metadata": {},
   "outputs": [
    {
     "data": {
      "text/html": [
       "<div>\n",
       "<style scoped>\n",
       "    .dataframe tbody tr th:only-of-type {\n",
       "        vertical-align: middle;\n",
       "    }\n",
       "\n",
       "    .dataframe tbody tr th {\n",
       "        vertical-align: top;\n",
       "    }\n",
       "\n",
       "    .dataframe thead th {\n",
       "        text-align: right;\n",
       "    }\n",
       "</style>\n",
       "<table border=\"1\" class=\"dataframe\">\n",
       "  <thead>\n",
       "    <tr style=\"text-align: right;\">\n",
       "      <th></th>\n",
       "      <th>year</th>\n",
       "      <th>gender</th>\n",
       "      <th>name</th>\n",
       "      <th>total</th>\n",
       "    </tr>\n",
       "  </thead>\n",
       "  <tbody>\n",
       "    <tr>\n",
       "      <th>32464</th>\n",
       "      <td>2017</td>\n",
       "      <td>M</td>\n",
       "      <td>Zykai</td>\n",
       "      <td>5</td>\n",
       "    </tr>\n",
       "    <tr>\n",
       "      <th>32465</th>\n",
       "      <td>2017</td>\n",
       "      <td>M</td>\n",
       "      <td>Zykeem</td>\n",
       "      <td>5</td>\n",
       "    </tr>\n",
       "    <tr>\n",
       "      <th>32466</th>\n",
       "      <td>2017</td>\n",
       "      <td>M</td>\n",
       "      <td>Zylin</td>\n",
       "      <td>5</td>\n",
       "    </tr>\n",
       "    <tr>\n",
       "      <th>32467</th>\n",
       "      <td>2017</td>\n",
       "      <td>M</td>\n",
       "      <td>Zylis</td>\n",
       "      <td>5</td>\n",
       "    </tr>\n",
       "    <tr>\n",
       "      <th>32468</th>\n",
       "      <td>2017</td>\n",
       "      <td>M</td>\n",
       "      <td>Zyrie</td>\n",
       "      <td>5</td>\n",
       "    </tr>\n",
       "  </tbody>\n",
       "</table>\n",
       "</div>"
      ],
      "text/plain": [
       "       year gender    name  total\n",
       "32464  2017      M   Zykai      5\n",
       "32465  2017      M  Zykeem      5\n",
       "32466  2017      M   Zylin      5\n",
       "32467  2017      M   Zylis      5\n",
       "32468  2017      M   Zyrie      5"
      ]
     },
     "execution_count": 5,
     "metadata": {},
     "output_type": "execute_result"
    }
   ],
   "source": [
    "# check tail\n",
    "df_indexed.tail()"
   ]
  },
  {
   "cell_type": "code",
   "execution_count": 183,
   "metadata": {},
   "outputs": [
    {
     "data": {
      "text/html": [
       "<div>\n",
       "<style scoped>\n",
       "    .dataframe tbody tr th:only-of-type {\n",
       "        vertical-align: middle;\n",
       "    }\n",
       "\n",
       "    .dataframe tbody tr th {\n",
       "        vertical-align: top;\n",
       "    }\n",
       "\n",
       "    .dataframe thead th {\n",
       "        text-align: right;\n",
       "    }\n",
       "</style>\n",
       "<table border=\"1\" class=\"dataframe\">\n",
       "  <thead>\n",
       "    <tr style=\"text-align: right;\">\n",
       "      <th></th>\n",
       "      <th>year</th>\n",
       "      <th>gender</th>\n",
       "      <th>name</th>\n",
       "      <th>total</th>\n",
       "    </tr>\n",
       "  </thead>\n",
       "  <tbody>\n",
       "    <tr>\n",
       "      <th>0</th>\n",
       "      <td>1880</td>\n",
       "      <td>F</td>\n",
       "      <td>Mary</td>\n",
       "      <td>7065</td>\n",
       "    </tr>\n",
       "    <tr>\n",
       "      <th>1</th>\n",
       "      <td>1880</td>\n",
       "      <td>F</td>\n",
       "      <td>Anna</td>\n",
       "      <td>2604</td>\n",
       "    </tr>\n",
       "    <tr>\n",
       "      <th>2</th>\n",
       "      <td>1880</td>\n",
       "      <td>F</td>\n",
       "      <td>Emma</td>\n",
       "      <td>2003</td>\n",
       "    </tr>\n",
       "    <tr>\n",
       "      <th>3</th>\n",
       "      <td>1880</td>\n",
       "      <td>F</td>\n",
       "      <td>Elizabeth</td>\n",
       "      <td>1939</td>\n",
       "    </tr>\n",
       "    <tr>\n",
       "      <th>4</th>\n",
       "      <td>1880</td>\n",
       "      <td>F</td>\n",
       "      <td>Minnie</td>\n",
       "      <td>1746</td>\n",
       "    </tr>\n",
       "  </tbody>\n",
       "</table>\n",
       "</div>"
      ],
      "text/plain": [
       "   year gender       name  total\n",
       "0  1880      F       Mary   7065\n",
       "1  1880      F       Anna   2604\n",
       "2  1880      F       Emma   2003\n",
       "3  1880      F  Elizabeth   1939\n",
       "4  1880      F     Minnie   1746"
      ]
     },
     "execution_count": 183,
     "metadata": {},
     "output_type": "execute_result"
    }
   ],
   "source": [
    "# filter for female names\n",
    "df_female = df_indexed[df_indexed.gender == 'F']\n",
    "df_female.head()"
   ]
  },
  {
   "cell_type": "code",
   "execution_count": 184,
   "metadata": {},
   "outputs": [
    {
     "data": {
      "text/html": [
       "<div>\n",
       "<style scoped>\n",
       "    .dataframe tbody tr th:only-of-type {\n",
       "        vertical-align: middle;\n",
       "    }\n",
       "\n",
       "    .dataframe tbody tr th {\n",
       "        vertical-align: top;\n",
       "    }\n",
       "\n",
       "    .dataframe thead th {\n",
       "        text-align: right;\n",
       "    }\n",
       "</style>\n",
       "<table border=\"1\" class=\"dataframe\">\n",
       "  <thead>\n",
       "    <tr style=\"text-align: right;\">\n",
       "      <th></th>\n",
       "      <th>year</th>\n",
       "      <th>gender</th>\n",
       "      <th>name</th>\n",
       "      <th>total</th>\n",
       "    </tr>\n",
       "  </thead>\n",
       "  <tbody>\n",
       "    <tr>\n",
       "      <th>942</th>\n",
       "      <td>1880</td>\n",
       "      <td>M</td>\n",
       "      <td>John</td>\n",
       "      <td>9655</td>\n",
       "    </tr>\n",
       "    <tr>\n",
       "      <th>943</th>\n",
       "      <td>1880</td>\n",
       "      <td>M</td>\n",
       "      <td>William</td>\n",
       "      <td>9532</td>\n",
       "    </tr>\n",
       "    <tr>\n",
       "      <th>944</th>\n",
       "      <td>1880</td>\n",
       "      <td>M</td>\n",
       "      <td>James</td>\n",
       "      <td>5927</td>\n",
       "    </tr>\n",
       "    <tr>\n",
       "      <th>945</th>\n",
       "      <td>1880</td>\n",
       "      <td>M</td>\n",
       "      <td>Charles</td>\n",
       "      <td>5348</td>\n",
       "    </tr>\n",
       "    <tr>\n",
       "      <th>946</th>\n",
       "      <td>1880</td>\n",
       "      <td>M</td>\n",
       "      <td>George</td>\n",
       "      <td>5126</td>\n",
       "    </tr>\n",
       "  </tbody>\n",
       "</table>\n",
       "</div>"
      ],
      "text/plain": [
       "     year gender     name  total\n",
       "942  1880      M     John   9655\n",
       "943  1880      M  William   9532\n",
       "944  1880      M    James   5927\n",
       "945  1880      M  Charles   5348\n",
       "946  1880      M   George   5126"
      ]
     },
     "execution_count": 184,
     "metadata": {},
     "output_type": "execute_result"
    }
   ],
   "source": [
    "# filter for male names\n",
    "df_male = df_indexed[df_indexed.gender == 'M']\n",
    "df_male.head()"
   ]
  },
  {
   "cell_type": "markdown",
   "metadata": {},
   "source": [
    "## Plot of total unique female/male names by year"
   ]
  },
  {
   "cell_type": "code",
   "execution_count": 47,
   "metadata": {},
   "outputs": [
    {
     "data": {
      "image/png": "[encoded data removed]",
      "text/plain": [
       "<Figure size 432x288 with 1 Axes>"
      ]
     },
     "metadata": {},
     "output_type": "display_data"
    }
   ],
   "source": [
    "# filters dataframe by gender and counts the number of unique names by year, then plots over time\n",
    "years = values.index.tolist()\n",
    "labels = [\"boys\", \"girls\"]\n",
    "values_male = df_male.year.value_counts().sort_index()\n",
    "values_female = df_female.year.value_counts().sort_index()\n",
    "fig, ax = plt.subplots()\n",
    "ax.stackplot(years, values_male, values_female, labels=labels, colors=['steelblue','orchid'])\n",
    "ax.legend(loc='upper left')\n",
    "plt.xticks(np.arange(0,137,step=15))\n",
    "plt.show()"
   ]
  },
  {
   "cell_type": "markdown",
   "metadata": {},
   "source": [
    "## General stats on names by year"
   ]
  },
  {
   "cell_type": "code",
   "execution_count": 256,
   "metadata": {},
   "outputs": [
    {
     "data": {
      "text/html": [
       "<div>\n",
       "<style scoped>\n",
       "    .dataframe tbody tr th:only-of-type {\n",
       "        vertical-align: middle;\n",
       "    }\n",
       "\n",
       "    .dataframe tbody tr th {\n",
       "        vertical-align: top;\n",
       "    }\n",
       "\n",
       "    .dataframe thead tr th {\n",
       "        text-align: left;\n",
       "    }\n",
       "\n",
       "    .dataframe thead tr:last-of-type th {\n",
       "        text-align: right;\n",
       "    }\n",
       "</style>\n",
       "<table border=\"1\" class=\"dataframe\">\n",
       "  <thead>\n",
       "    <tr>\n",
       "      <th></th>\n",
       "      <th colspan=\"8\" halign=\"left\">total</th>\n",
       "    </tr>\n",
       "    <tr>\n",
       "      <th></th>\n",
       "      <th>count</th>\n",
       "      <th>mean</th>\n",
       "      <th>std</th>\n",
       "      <th>min</th>\n",
       "      <th>25%</th>\n",
       "      <th>50%</th>\n",
       "      <th>75%</th>\n",
       "      <th>max</th>\n",
       "    </tr>\n",
       "    <tr>\n",
       "      <th>year</th>\n",
       "      <th></th>\n",
       "      <th></th>\n",
       "      <th></th>\n",
       "      <th></th>\n",
       "      <th></th>\n",
       "      <th></th>\n",
       "      <th></th>\n",
       "      <th></th>\n",
       "    </tr>\n",
       "  </thead>\n",
       "  <tbody>\n",
       "    <tr>\n",
       "      <th>1880</th>\n",
       "      <td>2000.0</td>\n",
       "      <td>100.742000</td>\n",
       "      <td>466.108304</td>\n",
       "      <td>5.0</td>\n",
       "      <td>7.0</td>\n",
       "      <td>13.0</td>\n",
       "      <td>41.25</td>\n",
       "      <td>9655.0</td>\n",
       "    </tr>\n",
       "    <tr>\n",
       "      <th>1881</th>\n",
       "      <td>1935.0</td>\n",
       "      <td>99.584496</td>\n",
       "      <td>438.355601</td>\n",
       "      <td>5.0</td>\n",
       "      <td>7.0</td>\n",
       "      <td>13.0</td>\n",
       "      <td>42.00</td>\n",
       "      <td>8769.0</td>\n",
       "    </tr>\n",
       "    <tr>\n",
       "      <th>1882</th>\n",
       "      <td>2127.0</td>\n",
       "      <td>104.152797</td>\n",
       "      <td>468.469089</td>\n",
       "      <td>5.0</td>\n",
       "      <td>7.0</td>\n",
       "      <td>13.0</td>\n",
       "      <td>42.50</td>\n",
       "      <td>9557.0</td>\n",
       "    </tr>\n",
       "    <tr>\n",
       "      <th>1883</th>\n",
       "      <td>2084.0</td>\n",
       "      <td>104.100768</td>\n",
       "      <td>448.153015</td>\n",
       "      <td>5.0</td>\n",
       "      <td>7.0</td>\n",
       "      <td>13.0</td>\n",
       "      <td>43.00</td>\n",
       "      <td>8894.0</td>\n",
       "    </tr>\n",
       "    <tr>\n",
       "      <th>1884</th>\n",
       "      <td>2297.0</td>\n",
       "      <td>105.991293</td>\n",
       "      <td>466.053710</td>\n",
       "      <td>5.0</td>\n",
       "      <td>7.0</td>\n",
       "      <td>13.0</td>\n",
       "      <td>40.00</td>\n",
       "      <td>9388.0</td>\n",
       "    </tr>\n",
       "  </tbody>\n",
       "</table>\n",
       "</div>"
      ],
      "text/plain": [
       "       total                                                       \n",
       "       count        mean         std  min  25%   50%    75%     max\n",
       "year                                                               \n",
       "1880  2000.0  100.742000  466.108304  5.0  7.0  13.0  41.25  9655.0\n",
       "1881  1935.0   99.584496  438.355601  5.0  7.0  13.0  42.00  8769.0\n",
       "1882  2127.0  104.152797  468.469089  5.0  7.0  13.0  42.50  9557.0\n",
       "1883  2084.0  104.100768  448.153015  5.0  7.0  13.0  43.00  8894.0\n",
       "1884  2297.0  105.991293  466.053710  5.0  7.0  13.0  40.00  9388.0"
      ]
     },
     "execution_count": 256,
     "metadata": {},
     "output_type": "execute_result"
    }
   ],
   "source": [
    "# get descriptive stats by year\n",
    "df_stats = df.groupby(['year']).describe()\n",
    "df_stats.head()"
   ]
  },
  {
   "cell_type": "code",
   "execution_count": 258,
   "metadata": {},
   "outputs": [
    {
     "data": {
      "text/html": [
       "<div>\n",
       "<style scoped>\n",
       "    .dataframe tbody tr th:only-of-type {\n",
       "        vertical-align: middle;\n",
       "    }\n",
       "\n",
       "    .dataframe tbody tr th {\n",
       "        vertical-align: top;\n",
       "    }\n",
       "\n",
       "    .dataframe thead tr th {\n",
       "        text-align: left;\n",
       "    }\n",
       "\n",
       "    .dataframe thead tr:last-of-type th {\n",
       "        text-align: right;\n",
       "    }\n",
       "</style>\n",
       "<table border=\"1\" class=\"dataframe\">\n",
       "  <thead>\n",
       "    <tr>\n",
       "      <th></th>\n",
       "      <th colspan=\"8\" halign=\"left\">total</th>\n",
       "    </tr>\n",
       "    <tr>\n",
       "      <th></th>\n",
       "      <th>count</th>\n",
       "      <th>mean</th>\n",
       "      <th>std</th>\n",
       "      <th>min</th>\n",
       "      <th>25%</th>\n",
       "      <th>50%</th>\n",
       "      <th>75%</th>\n",
       "      <th>max</th>\n",
       "    </tr>\n",
       "    <tr>\n",
       "      <th>year</th>\n",
       "      <th></th>\n",
       "      <th></th>\n",
       "      <th></th>\n",
       "      <th></th>\n",
       "      <th></th>\n",
       "      <th></th>\n",
       "      <th></th>\n",
       "      <th></th>\n",
       "    </tr>\n",
       "  </thead>\n",
       "  <tbody>\n",
       "    <tr>\n",
       "      <th>2013</th>\n",
       "      <td>33269.0</td>\n",
       "      <td>109.330307</td>\n",
       "      <td>678.812266</td>\n",
       "      <td>5.0</td>\n",
       "      <td>7.0</td>\n",
       "      <td>11.0</td>\n",
       "      <td>29.0</td>\n",
       "      <td>21213.0</td>\n",
       "    </tr>\n",
       "    <tr>\n",
       "      <th>2014</th>\n",
       "      <td>33228.0</td>\n",
       "      <td>111.240851</td>\n",
       "      <td>681.177437</td>\n",
       "      <td>5.0</td>\n",
       "      <td>7.0</td>\n",
       "      <td>11.0</td>\n",
       "      <td>30.0</td>\n",
       "      <td>20924.0</td>\n",
       "    </tr>\n",
       "    <tr>\n",
       "      <th>2015</th>\n",
       "      <td>33098.0</td>\n",
       "      <td>111.447429</td>\n",
       "      <td>674.338786</td>\n",
       "      <td>5.0</td>\n",
       "      <td>7.0</td>\n",
       "      <td>11.0</td>\n",
       "      <td>30.0</td>\n",
       "      <td>20435.0</td>\n",
       "    </tr>\n",
       "    <tr>\n",
       "      <th>2016</th>\n",
       "      <td>32979.0</td>\n",
       "      <td>110.766488</td>\n",
       "      <td>659.810676</td>\n",
       "      <td>5.0</td>\n",
       "      <td>7.0</td>\n",
       "      <td>12.0</td>\n",
       "      <td>30.0</td>\n",
       "      <td>19471.0</td>\n",
       "    </tr>\n",
       "    <tr>\n",
       "      <th>2017</th>\n",
       "      <td>32469.0</td>\n",
       "      <td>109.221134</td>\n",
       "      <td>639.965484</td>\n",
       "      <td>5.0</td>\n",
       "      <td>7.0</td>\n",
       "      <td>12.0</td>\n",
       "      <td>30.0</td>\n",
       "      <td>19738.0</td>\n",
       "    </tr>\n",
       "  </tbody>\n",
       "</table>\n",
       "</div>"
      ],
      "text/plain": [
       "        total                                                       \n",
       "        count        mean         std  min  25%   50%   75%      max\n",
       "year                                                                \n",
       "2013  33269.0  109.330307  678.812266  5.0  7.0  11.0  29.0  21213.0\n",
       "2014  33228.0  111.240851  681.177437  5.0  7.0  11.0  30.0  20924.0\n",
       "2015  33098.0  111.447429  674.338786  5.0  7.0  11.0  30.0  20435.0\n",
       "2016  32979.0  110.766488  659.810676  5.0  7.0  12.0  30.0  19471.0\n",
       "2017  32469.0  109.221134  639.965484  5.0  7.0  12.0  30.0  19738.0"
      ]
     },
     "execution_count": 258,
     "metadata": {},
     "output_type": "execute_result"
    }
   ],
   "source": [
    "df_stats.tail()"
   ]
  },
  {
   "cell_type": "code",
   "execution_count": 138,
   "metadata": {},
   "outputs": [],
   "source": [
    "# parse dataframe into series\n",
    "y_count = df_stats.iloc[:,0]\n",
    "y_mean = df_stats.iloc[:,1]\n",
    "y_std = df_stats.iloc[:,2]\n",
    "y_min = df_stats.iloc[:,3]\n",
    "y_25 = df_stats.iloc[:,4]\n",
    "y_50 = df_stats.iloc[:,5]\n",
    "y_75 = df_stats.iloc[:,6]\n",
    "y_max = df_stats.iloc[:,7]"
   ]
  },
  {
   "cell_type": "code",
   "execution_count": 257,
   "metadata": {},
   "outputs": [
    {
     "data": {
      "text/plain": [
       "([<matplotlib.axis.XTick at 0x1a3e9c4048>,\n",
       "  <matplotlib.axis.XTick at 0x1a3d230588>,\n",
       "  <matplotlib.axis.XTick at 0x1a3d230dd8>,\n",
       "  <matplotlib.axis.XTick at 0x1a3eb35c18>,\n",
       "  <matplotlib.axis.XTick at 0x1a3d2382e8>,\n",
       "  <matplotlib.axis.XTick at 0x1a3e999320>,\n",
       "  <matplotlib.axis.XTick at 0x1a3e999fd0>,\n",
       "  <matplotlib.axis.XTick at 0x1a3e9994a8>,\n",
       "  <matplotlib.axis.XTick at 0x1a3e99c588>,\n",
       "  <matplotlib.axis.XTick at 0x1a3e99ca58>],\n",
       " <a list of 10 Text xticklabel objects>)"
      ]
     },
     "execution_count": 257,
     "metadata": {},
     "output_type": "execute_result"
    },
    {
     "data": {
      "image/png": "[encoded data removed]",
      "text/plain": [
       "<Figure size 432x288 with 1 Axes>"
      ]
     },
     "metadata": {},
     "output_type": "display_data"
    }
   ],
   "source": [
    "# plot descriptive stats\n",
    "fig, ax = plt.subplots()\n",
    "ax.plot(years, y_25)\n",
    "ax.plot(years, y_50)\n",
    "ax.plot(years, y_75)\n",
    "ax.legend(loc='upper right')\n",
    "plt.xticks(np.arange(0,137,step=15))"
   ]
  },
  {
   "cell_type": "markdown",
   "metadata": {},
   "source": [
    "## Diversity of top 10 names"
   ]
  },
  {
   "cell_type": "code",
   "execution_count": 200,
   "metadata": {},
   "outputs": [],
   "source": [
    "# filters the top 10 female names by year, indexes and sorts them\n",
    "df_ten = df_female.groupby('year').head(10)\n",
    "df_ten_indexed = df_ten.reindex(columns=['year', 'gender', 'name', 'total']).sort_values(by=['year', 'gender', 'total'], ascending=[True, True, False])"
   ]
  },
  {
   "cell_type": "code",
   "execution_count": 211,
   "metadata": {},
   "outputs": [],
   "source": [
    "# sum the top 10 female names by year\n",
    "df_ten_tot = df_ten.groupby(['year']).agg('sum')"
   ]
  },
  {
   "cell_type": "code",
   "execution_count": 204,
   "metadata": {},
   "outputs": [],
   "source": [
    "# sum of all female names by year\n",
    "df_tot = df_female.groupby(['year']).agg('sum')"
   ]
  },
  {
   "cell_type": "code",
   "execution_count": 228,
   "metadata": {},
   "outputs": [],
   "source": [
    "# concat total of top 10 names with total of all names\n",
    "# calculate % of births with top 10 name\n",
    "results = pd.concat([df_ten_tot, df_tot], axis=1)\n",
    "results['top 10'] = results.iloc[:,0]/results.iloc[:,1]"
   ]
  },
  {
   "cell_type": "code",
   "execution_count": 255,
   "metadata": {},
   "outputs": [
    {
     "data": {
      "text/plain": [
       "([<matplotlib.axis.XTick at 0x1a3cf54c18>,\n",
       "  <matplotlib.axis.XTick at 0x1a3cf54198>,\n",
       "  <matplotlib.axis.XTick at 0x1a3cf7fac8>,\n",
       "  <matplotlib.axis.XTick at 0x1a3db0fbe0>,\n",
       "  <matplotlib.axis.XTick at 0x1a3db0f588>,\n",
       "  <matplotlib.axis.XTick at 0x1a422a8978>,\n",
       "  <matplotlib.axis.XTick at 0x1a422a8470>,\n",
       "  <matplotlib.axis.XTick at 0x1a421ac400>,\n",
       "  <matplotlib.axis.XTick at 0x1a422a89e8>,\n",
       "  <matplotlib.axis.XTick at 0x1a3db0fda0>],\n",
       " <a list of 10 Text xticklabel objects>)"
      ]
     },
     "execution_count": 255,
     "metadata": {},
     "output_type": "execute_result"
    },
    {
     "data": {
      "image/png": "[encoded data removed]",
      "text/plain": [
       "<Figure size 432x288 with 1 Axes>"
      ]
     },
     "metadata": {},
     "output_type": "display_data"
    }
   ],
   "source": [
    "# plot top ten names as a % of all names over time\n",
    "top_ten = results.iloc[:,2]\n",
    "fig, ax = plt.subplots()\n",
    "ax.plot(years, top_ten)\n",
    "ax.legend(loc='upper right')\n",
    "plt.xticks(np.arange(0,137,step=15))"
   ]
  },
  {
   "cell_type": "code",
   "execution_count": null,
   "metadata": {},
   "outputs": [],
   "source": []
  }
 ],
 "metadata": {
  "kernelspec": {
   "display_name": "Python 3",
   "language": "python",
   "name": "python3"
  },
  "language_info": {
   "codemirror_mode": {
    "name": "ipython",
    "version": 3
   },
   "file_extension": ".py",
   "mimetype": "text/x-python",
   "name": "python",
   "nbconvert_exporter": "python",
   "pygments_lexer": "ipython3",
   "version": "3.6.5"
  }
 },
 "nbformat": 4,
 "nbformat_minor": 2
}
