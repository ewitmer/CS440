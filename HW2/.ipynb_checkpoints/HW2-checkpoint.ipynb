{
 "cells": [
  {
   "cell_type": "markdown",
   "metadata": {},
   "source": [
    "## Homework 2\n",
    "Erin Witmer  \n",
    "CS 440"
   ]
  },
  {
   "cell_type": "markdown",
   "metadata": {},
   "source": [
    "### Chapter 2"
   ]
  },
  {
   "cell_type": "markdown",
   "metadata": {},
   "source": [
    "**[2.3] Suppose that the values for a given set of data are grouped into intervals. The intervals and corresponding frequencies are as follows. Compute an approximate median value.**"
   ]
  },
  {
   "cell_type": "code",
   "execution_count": 1,
   "metadata": {},
   "outputs": [
    {
     "data": {
      "text/plain": [
       "1597.0"
      ]
     },
     "execution_count": 1,
     "metadata": {},
     "output_type": "execute_result"
    }
   ],
   "source": [
    "# calculate n, the total observations\n",
    "# n/2 is the median value\n",
    "import numpy as np\n",
    "f = [200, 450, 300, 1500, 700, 44]\n",
    "n = np.sum(f)\n",
    "median_value = n/2\n",
    "median_value"
   ]
  },
  {
   "cell_type": "code",
   "execution_count": 2,
   "metadata": {},
   "outputs": [
    {
     "name": "stdout",
     "output_type": "stream",
     "text": [
      "200\n",
      "650\n",
      "950\n",
      "2450\n",
      "3150\n",
      "3194\n"
     ]
    }
   ],
   "source": [
    "# calculate the cumulative observations to determine the bin the median falls in \n",
    "tot = 0\n",
    "for i in f:\n",
    "    tot += i\n",
    "    print(tot)"
   ]
  },
  {
   "cell_type": "code",
   "execution_count": 3,
   "metadata": {},
   "outputs": [
    {
     "data": {
      "text/plain": [
       "29"
      ]
     },
     "execution_count": 3,
     "metadata": {},
     "output_type": "execute_result"
    }
   ],
   "source": [
    "# the median value falls in the bin 21-50\n",
    "bin_min = 21\n",
    "bin_max = 50\n",
    "bin_range = bin_max - bin_min\n",
    "bin_range"
   ]
  },
  {
   "cell_type": "code",
   "execution_count": 4,
   "metadata": {},
   "outputs": [
    {
     "data": {
      "text/plain": [
       "0.43133333333333335"
      ]
     },
     "execution_count": 4,
     "metadata": {},
     "output_type": "execute_result"
    }
   ],
   "source": [
    "# calculate how far into the bin the median value falls\n",
    "n_remaining = median_value-(f[2]+f[1]+f[0])\n",
    "bin_size = f[3]\n",
    "pct_bin = n_remaining / bin_size\n",
    "pct_bin"
   ]
  },
  {
   "cell_type": "code",
   "execution_count": 5,
   "metadata": {},
   "outputs": [
    {
     "name": "stdout",
     "output_type": "stream",
     "text": [
      "33.51\n"
     ]
    }
   ],
   "source": [
    "# make an assumption that the bin is evenly distributed\n",
    "# the median value falls 43% into the bin\n",
    "est_median = bin_range * pct_bin + bin_min\n",
    "print(round(est_median,2))"
   ]
  },
  {
   "cell_type": "markdown",
   "metadata": {},
   "source": [
    "Making an assumption that the bin in which the median value falls is evenly distributed, the median value is approximately 33.5. "
   ]
  },
  {
   "cell_type": "markdown",
   "metadata": {},
   "source": [
    "**[2.4] Suppose that a hospital tested the age and body far for 18 randomly selected adults with the following results.**"
   ]
  },
  {
   "cell_type": "markdown",
   "metadata": {},
   "source": [
    "**(a) Calculate the mean, median and std.dev of age and % fat**"
   ]
  },
  {
   "cell_type": "code",
   "execution_count": 6,
   "metadata": {},
   "outputs": [
    {
     "data": {
      "text/html": [
       "<div>\n",
       "<style scoped>\n",
       "    .dataframe tbody tr th:only-of-type {\n",
       "        vertical-align: middle;\n",
       "    }\n",
       "\n",
       "    .dataframe tbody tr th {\n",
       "        vertical-align: top;\n",
       "    }\n",
       "\n",
       "    .dataframe thead th {\n",
       "        text-align: right;\n",
       "    }\n",
       "</style>\n",
       "<table border=\"1\" class=\"dataframe\">\n",
       "  <thead>\n",
       "    <tr style=\"text-align: right;\">\n",
       "      <th></th>\n",
       "      <th>age</th>\n",
       "      <th>pct_fat</th>\n",
       "    </tr>\n",
       "  </thead>\n",
       "  <tbody>\n",
       "    <tr>\n",
       "      <th>count</th>\n",
       "      <td>18.000000</td>\n",
       "      <td>18.000000</td>\n",
       "    </tr>\n",
       "    <tr>\n",
       "      <th>mean</th>\n",
       "      <td>46.444444</td>\n",
       "      <td>28.783333</td>\n",
       "    </tr>\n",
       "    <tr>\n",
       "      <th>std</th>\n",
       "      <td>13.218624</td>\n",
       "      <td>9.254395</td>\n",
       "    </tr>\n",
       "    <tr>\n",
       "      <th>min</th>\n",
       "      <td>23.000000</td>\n",
       "      <td>7.800000</td>\n",
       "    </tr>\n",
       "    <tr>\n",
       "      <th>25%</th>\n",
       "      <td>39.500000</td>\n",
       "      <td>26.675000</td>\n",
       "    </tr>\n",
       "    <tr>\n",
       "      <th>50%</th>\n",
       "      <td>51.000000</td>\n",
       "      <td>30.700000</td>\n",
       "    </tr>\n",
       "    <tr>\n",
       "      <th>75%</th>\n",
       "      <td>56.750000</td>\n",
       "      <td>33.925000</td>\n",
       "    </tr>\n",
       "    <tr>\n",
       "      <th>max</th>\n",
       "      <td>61.000000</td>\n",
       "      <td>42.500000</td>\n",
       "    </tr>\n",
       "  </tbody>\n",
       "</table>\n",
       "</div>"
      ],
      "text/plain": [
       "             age    pct_fat\n",
       "count  18.000000  18.000000\n",
       "mean   46.444444  28.783333\n",
       "std    13.218624   9.254395\n",
       "min    23.000000   7.800000\n",
       "25%    39.500000  26.675000\n",
       "50%    51.000000  30.700000\n",
       "75%    56.750000  33.925000\n",
       "max    61.000000  42.500000"
      ]
     },
     "execution_count": 6,
     "metadata": {},
     "output_type": "execute_result"
    }
   ],
   "source": [
    "import pandas as pd\n",
    "age = [23,23,27,27,39,41,47,49,50,52,54,54,56,57,58,58,60,61]\n",
    "pct_fat = [9.5,26.5,7.8,17.8,31.4,25.9,27.4,27.2,31.2,34.6,\n",
    "           42.5,28.8,33.4,30.2,34.1,32.9,41.2,35.7]\n",
    "df = pd.DataFrame({'age': age, 'pct_fat': pct_fat})\n",
    "df.describe()"
   ]
  },
  {
   "cell_type": "code",
   "execution_count": 7,
   "metadata": {},
   "outputs": [
    {
     "data": {
      "text/plain": [
       "age        12.846194\n",
       "pct_fat     8.993655\n",
       "dtype: float64"
      ]
     },
     "execution_count": 7,
     "metadata": {},
     "output_type": "execute_result"
    }
   ],
   "source": [
    "df.std(ddof=0)"
   ]
  },
  {
   "cell_type": "markdown",
   "metadata": {},
   "source": [
    "Age: mean = 46.4, median = 51, std (corrected to n-1 since this is a sample) = 13.2, std (uncorrected) = 12.8  \n",
    "%Fat: mean = 28.8, median = 30.7, std (corrected to n-1 since this is a sample) = 9.3, std (uncorrected) = 9.0"
   ]
  },
  {
   "cell_type": "markdown",
   "metadata": {},
   "source": [
    "**(b) Draw boxplots for age and %fat**"
   ]
  },
  {
   "cell_type": "code",
   "execution_count": 8,
   "metadata": {},
   "outputs": [
    {
     "data": {
      "text/plain": [
       "<matplotlib.axes._subplots.AxesSubplot at 0x110473588>"
      ]
     },
     "execution_count": 8,
     "metadata": {},
     "output_type": "execute_result"
    }
   ],
   "source": [
    "df.boxplot()"
   ]
  },
  {
   "cell_type": "markdown",
   "metadata": {},
   "source": [
    "**(c) Draw a scatter plot and quantile-quantile plot based on these two variables.**"
   ]
  },
  {
   "cell_type": "code",
   "execution_count": 9,
   "metadata": {},
   "outputs": [
    {
     "data": {
      "text/plain": [
       "<matplotlib.axes._subplots.AxesSubplot at 0x11bada438>"
      ]
     },
     "execution_count": 9,
     "metadata": {},
     "output_type": "execute_result"
    },
    {
     "data": {
      "image/png": "[encoded data removed]",
      "text/plain": [
       "<Figure size 432x288 with 1 Axes>"
      ]
     },
     "metadata": {},
     "output_type": "display_data"
    }
   ],
   "source": [
    "df.plot.scatter(x='age',y='pct_fat')"
   ]
  },
  {
   "cell_type": "code",
   "execution_count": 10,
   "metadata": {},
   "outputs": [],
   "source": [
    "df_q = df.quantile(np.linspace(0, 1.0, num=19))"
   ]
  },
  {
   "cell_type": "code",
   "execution_count": 11,
   "metadata": {},
   "outputs": [
    {
     "data": {
      "text/plain": [
       "<matplotlib.axes._subplots.AxesSubplot at 0x11bb50588>"
      ]
     },
     "execution_count": 11,
     "metadata": {},
     "output_type": "execute_result"
    },
    {
     "data": {
      "image/png": "[encoded data removed]",
      "text/plain": [
       "<Figure size 432x288 with 1 Axes>"
      ]
     },
     "metadata": {},
     "output_type": "display_data"
    }
   ],
   "source": [
    "df_q.plot.scatter(x='age',y='pct_fat')"
   ]
  },
  {
   "cell_type": "markdown",
   "metadata": {},
   "source": [
    "**[2.6] Given two objects represented by the tuples (22,1,42,10) and (20,0,36,8)**"
   ]
  },
  {
   "cell_type": "markdown",
   "metadata": {},
   "source": [
    "**(a) Calculate the Euclidean distance between the two objects**"
   ]
  },
  {
   "cell_type": "code",
   "execution_count": 12,
   "metadata": {},
   "outputs": [],
   "source": [
    "# generalized formula for distance in L norm\n",
    "def dist(obj1, obj2, l):\n",
    "    total = 0\n",
    "    for i in range(len(obj1)):\n",
    "        total += abs(obj1[i]-obj2[i]) ** l\n",
    "    return total ** (1/l)"
   ]
  },
  {
   "cell_type": "code",
   "execution_count": 13,
   "metadata": {},
   "outputs": [
    {
     "data": {
      "text/plain": [
       "6.708203932499369"
      ]
     },
     "execution_count": 13,
     "metadata": {},
     "output_type": "execute_result"
    }
   ],
   "source": [
    "# objects\n",
    "obj1 = [22,1,42,10]\n",
    "obj2 = [20, 0, 36, 8]\n",
    "\n",
    "#Euclidean (L2)\n",
    "dist(obj1, obj2, 2)"
   ]
  },
  {
   "cell_type": "markdown",
   "metadata": {},
   "source": [
    "The Euclidean distance is 6.7"
   ]
  },
  {
   "cell_type": "markdown",
   "metadata": {},
   "source": [
    "**(b) Calculate the Manhattan distance between the two objects**"
   ]
  },
  {
   "cell_type": "code",
   "execution_count": 14,
   "metadata": {},
   "outputs": [
    {
     "data": {
      "text/plain": [
       "11.0"
      ]
     },
     "execution_count": 14,
     "metadata": {},
     "output_type": "execute_result"
    }
   ],
   "source": [
    "#Manhattan (L1)\n",
    "dist(obj1, obj2, 1)"
   ]
  },
  {
   "cell_type": "markdown",
   "metadata": {},
   "source": [
    "The Manhattan distance is 11.0"
   ]
  },
  {
   "cell_type": "markdown",
   "metadata": {},
   "source": [
    "**(c) Calculate the Minkowski distance between the two objects (q=3)**"
   ]
  },
  {
   "cell_type": "code",
   "execution_count": 15,
   "metadata": {},
   "outputs": [
    {
     "data": {
      "text/plain": [
       "6.153449493663682"
      ]
     },
     "execution_count": 15,
     "metadata": {},
     "output_type": "execute_result"
    }
   ],
   "source": [
    "#Minkowski (L3)\n",
    "dist(obj1, obj2, 3)"
   ]
  },
  {
   "cell_type": "markdown",
   "metadata": {},
   "source": [
    "The Minkowski distance (L=3) is 6.2"
   ]
  },
  {
   "cell_type": "markdown",
   "metadata": {},
   "source": [
    "**(d) Calculate the supremum distance between the two objects**"
   ]
  },
  {
   "cell_type": "code",
   "execution_count": 16,
   "metadata": {},
   "outputs": [],
   "source": [
    "# formula for supremum\n",
    "def supremum(obj1, obj2):\n",
    "    diff = map(lambda x, y: abs(x - y), obj1, obj2)\n",
    "    return np.max(list(diff))"
   ]
  },
  {
   "cell_type": "code",
   "execution_count": 17,
   "metadata": {},
   "outputs": [
    {
     "data": {
      "text/plain": [
       "6"
      ]
     },
     "execution_count": 17,
     "metadata": {},
     "output_type": "execute_result"
    }
   ],
   "source": [
    "# Supremum\n",
    "supremum(obj1, obj2)"
   ]
  },
  {
   "cell_type": "markdown",
   "metadata": {},
   "source": [
    "The supremum distance is 6."
   ]
  },
  {
   "cell_type": "markdown",
   "metadata": {},
   "source": [
    "**[2.8] It is important to define or select similarity measures in data analysis. However, there is no commonly accepted subjective simliarity measure. Results can vary based on the similarity measure used. Nonetheless, seemingly different similarity measures may be equivilent after some transformation. Suppose we have the following 2-D data set:**"
   ]
  },
  {
   "cell_type": "markdown",
   "metadata": {},
   "source": [
    "**(a) Consider the data as 2-D data points. Given the new data point, x=(1.4,1.6) as a query, rank the database points based on similarity with the query using Euclidean distance, Manhattan distance, supremum distance, and cosine similarity**"
   ]
  },
  {
   "cell_type": "code",
   "execution_count": 18,
   "metadata": {},
   "outputs": [],
   "source": [
    "# data points for comparison, new data point and indices\n",
    "x_all = [(1.5,1.7),(2.0,1.9),(1.6,1.8),(1.2,1.5),(1.5,1.0)]\n",
    "x_new = (1.4,1.6)\n",
    "ind = ['x1','x2','x3','x4','x5']"
   ]
  },
  {
   "cell_type": "code",
   "execution_count": 19,
   "metadata": {},
   "outputs": [],
   "source": [
    "# maps list into euclidean distance between each data point and the new data point\n",
    "eucl = list(map(lambda x: dist(x,x_new,2),x_all))"
   ]
  },
  {
   "cell_type": "code",
   "execution_count": 20,
   "metadata": {},
   "outputs": [],
   "source": [
    "# maps list into manhattan distance between each data point and the new data point\n",
    "nyc = list(map(lambda x: dist(x,x_new,1),x_all))"
   ]
  },
  {
   "cell_type": "code",
   "execution_count": 21,
   "metadata": {},
   "outputs": [],
   "source": [
    "# maps list into supremum distance between each data point and the new data point\n",
    "sup = list(map(lambda x: supremum(x,x_new),x_all))"
   ]
  },
  {
   "cell_type": "code",
   "execution_count": 22,
   "metadata": {},
   "outputs": [],
   "source": [
    "# formula to calculate cosine similarity\n",
    "from numpy import linalg as LA\n",
    "def cos_sim(obj1, obj2):\n",
    "    d = np.dot(obj1, obj2) / (LA.norm(obj1) * LA.norm(obj2))\n",
    "    return d"
   ]
  },
  {
   "cell_type": "code",
   "execution_count": 23,
   "metadata": {},
   "outputs": [],
   "source": [
    "# maps list into cosine similarity between each data point and the new data point\n",
    "cs = list(map(lambda x: cos_sim(x,x_new),x_all))"
   ]
  },
  {
   "cell_type": "code",
   "execution_count": 24,
   "metadata": {},
   "outputs": [
    {
     "data": {
      "text/html": [
       "<div>\n",
       "<style scoped>\n",
       "    .dataframe tbody tr th:only-of-type {\n",
       "        vertical-align: middle;\n",
       "    }\n",
       "\n",
       "    .dataframe tbody tr th {\n",
       "        vertical-align: top;\n",
       "    }\n",
       "\n",
       "    .dataframe thead th {\n",
       "        text-align: right;\n",
       "    }\n",
       "</style>\n",
       "<table border=\"1\" class=\"dataframe\">\n",
       "  <thead>\n",
       "    <tr style=\"text-align: right;\">\n",
       "      <th></th>\n",
       "      <th>euclidean</th>\n",
       "      <th>manhattan</th>\n",
       "      <th>supremum</th>\n",
       "      <th>cos_sim</th>\n",
       "    </tr>\n",
       "  </thead>\n",
       "  <tbody>\n",
       "    <tr>\n",
       "      <th>x1</th>\n",
       "      <td>0.141421</td>\n",
       "      <td>0.2</td>\n",
       "      <td>0.1</td>\n",
       "      <td>0.999991</td>\n",
       "    </tr>\n",
       "    <tr>\n",
       "      <th>x2</th>\n",
       "      <td>0.670820</td>\n",
       "      <td>0.9</td>\n",
       "      <td>0.6</td>\n",
       "      <td>0.995752</td>\n",
       "    </tr>\n",
       "    <tr>\n",
       "      <th>x3</th>\n",
       "      <td>0.282843</td>\n",
       "      <td>0.4</td>\n",
       "      <td>0.2</td>\n",
       "      <td>0.999969</td>\n",
       "    </tr>\n",
       "    <tr>\n",
       "      <th>x4</th>\n",
       "      <td>0.223607</td>\n",
       "      <td>0.3</td>\n",
       "      <td>0.2</td>\n",
       "      <td>0.999028</td>\n",
       "    </tr>\n",
       "    <tr>\n",
       "      <th>x5</th>\n",
       "      <td>0.608276</td>\n",
       "      <td>0.7</td>\n",
       "      <td>0.6</td>\n",
       "      <td>0.965363</td>\n",
       "    </tr>\n",
       "  </tbody>\n",
       "</table>\n",
       "</div>"
      ],
      "text/plain": [
       "    euclidean  manhattan  supremum   cos_sim\n",
       "x1   0.141421        0.2       0.1  0.999991\n",
       "x2   0.670820        0.9       0.6  0.995752\n",
       "x3   0.282843        0.4       0.2  0.999969\n",
       "x4   0.223607        0.3       0.2  0.999028\n",
       "x5   0.608276        0.7       0.6  0.965363"
      ]
     },
     "execution_count": 24,
     "metadata": {},
     "output_type": "execute_result"
    }
   ],
   "source": [
    "# puts each of the mappings into a dataframe\n",
    "df = pd.DataFrame({'euclidean': eucl,\n",
    "                   'manhattan': nyc, \n",
    "                   'supremum': sup, \n",
    "                   'cos_sim': cs},index=ind)\n",
    "df"
   ]
  },
  {
   "cell_type": "markdown",
   "metadata": {},
   "source": [
    "The table above shows the distance and similarities "
   ]
  },
  {
   "cell_type": "code",
   "execution_count": 25,
   "metadata": {},
   "outputs": [
    {
     "data": {
      "text/html": [
       "<div>\n",
       "<style scoped>\n",
       "    .dataframe tbody tr th:only-of-type {\n",
       "        vertical-align: middle;\n",
       "    }\n",
       "\n",
       "    .dataframe tbody tr th {\n",
       "        vertical-align: top;\n",
       "    }\n",
       "\n",
       "    .dataframe thead th {\n",
       "        text-align: right;\n",
       "    }\n",
       "</style>\n",
       "<table border=\"1\" class=\"dataframe\">\n",
       "  <thead>\n",
       "    <tr style=\"text-align: right;\">\n",
       "      <th></th>\n",
       "      <th>euclidean</th>\n",
       "      <th>manhattan</th>\n",
       "      <th>supremum</th>\n",
       "      <th>cos_sim</th>\n",
       "    </tr>\n",
       "  </thead>\n",
       "  <tbody>\n",
       "    <tr>\n",
       "      <th>x1</th>\n",
       "      <td>1.0</td>\n",
       "      <td>1.0</td>\n",
       "      <td>1.0</td>\n",
       "      <td>5.0</td>\n",
       "    </tr>\n",
       "    <tr>\n",
       "      <th>x2</th>\n",
       "      <td>5.0</td>\n",
       "      <td>5.0</td>\n",
       "      <td>4.5</td>\n",
       "      <td>2.0</td>\n",
       "    </tr>\n",
       "    <tr>\n",
       "      <th>x3</th>\n",
       "      <td>3.0</td>\n",
       "      <td>3.0</td>\n",
       "      <td>3.0</td>\n",
       "      <td>4.0</td>\n",
       "    </tr>\n",
       "    <tr>\n",
       "      <th>x4</th>\n",
       "      <td>2.0</td>\n",
       "      <td>2.0</td>\n",
       "      <td>2.0</td>\n",
       "      <td>3.0</td>\n",
       "    </tr>\n",
       "    <tr>\n",
       "      <th>x5</th>\n",
       "      <td>4.0</td>\n",
       "      <td>4.0</td>\n",
       "      <td>4.5</td>\n",
       "      <td>1.0</td>\n",
       "    </tr>\n",
       "  </tbody>\n",
       "</table>\n",
       "</div>"
      ],
      "text/plain": [
       "    euclidean  manhattan  supremum  cos_sim\n",
       "x1        1.0        1.0       1.0      5.0\n",
       "x2        5.0        5.0       4.5      2.0\n",
       "x3        3.0        3.0       3.0      4.0\n",
       "x4        2.0        2.0       2.0      3.0\n",
       "x5        4.0        4.0       4.5      1.0"
      ]
     },
     "execution_count": 25,
     "metadata": {},
     "output_type": "execute_result"
    }
   ],
   "source": [
    "# shows the rank of similiarity for each of the measures\n",
    "df.rank()"
   ]
  },
  {
   "cell_type": "markdown",
   "metadata": {},
   "source": [
    "The table above shows the value ranks. Note that for measures of distance, lower values indicate higher similarity. For measures of similarity, higher values indicate higher similarity. Ranks by similiarity are: \n",
    "\n",
    "euclidean: x1, x4, x3, x5, x2  \n",
    "manhattan: x1, x4, x3, x5, x2  \n",
    "supremum: x1, x4, x3, x5, x2  \n",
    "cosine similarity: x1, x3, x4, x2, x5"
   ]
  },
  {
   "cell_type": "markdown",
   "metadata": {},
   "source": [
    "**(b) Normalize the data set to make the norm of each data point equal to 1. Use Euclidean distance on the transformed data to rank the data points.**"
   ]
  },
  {
   "cell_type": "code",
   "execution_count": 26,
   "metadata": {},
   "outputs": [],
   "source": [
    "# normalize a vector\n",
    "def normalize(obj):\n",
    "    n = tuple(map(lambda x: x / LA.norm(obj),obj))\n",
    "    return n"
   ]
  },
  {
   "cell_type": "code",
   "execution_count": 27,
   "metadata": {},
   "outputs": [],
   "source": [
    "# normalize data\n",
    "x_new_norm = normalize(x_new)\n",
    "x_all_norm = list(map(lambda x: normalize(x),x_all))"
   ]
  },
  {
   "cell_type": "code",
   "execution_count": 28,
   "metadata": {},
   "outputs": [],
   "source": [
    "# maps list into euclidean distance between each data point and the new data point\n",
    "eucl_norm = list(map(lambda x: dist(x,x_new_norm,2),x_all_norm))"
   ]
  },
  {
   "cell_type": "code",
   "execution_count": 29,
   "metadata": {},
   "outputs": [
    {
     "data": {
      "text/html": [
       "<div>\n",
       "<style scoped>\n",
       "    .dataframe tbody tr th:only-of-type {\n",
       "        vertical-align: middle;\n",
       "    }\n",
       "\n",
       "    .dataframe tbody tr th {\n",
       "        vertical-align: top;\n",
       "    }\n",
       "\n",
       "    .dataframe thead th {\n",
       "        text-align: right;\n",
       "    }\n",
       "</style>\n",
       "<table border=\"1\" class=\"dataframe\">\n",
       "  <thead>\n",
       "    <tr style=\"text-align: right;\">\n",
       "      <th></th>\n",
       "      <th>euclidean_norm</th>\n",
       "    </tr>\n",
       "  </thead>\n",
       "  <tbody>\n",
       "    <tr>\n",
       "      <th>x1</th>\n",
       "      <td>0.004149</td>\n",
       "    </tr>\n",
       "    <tr>\n",
       "      <th>x2</th>\n",
       "      <td>0.092171</td>\n",
       "    </tr>\n",
       "    <tr>\n",
       "      <th>x3</th>\n",
       "      <td>0.007812</td>\n",
       "    </tr>\n",
       "    <tr>\n",
       "      <th>x4</th>\n",
       "      <td>0.044085</td>\n",
       "    </tr>\n",
       "    <tr>\n",
       "      <th>x5</th>\n",
       "      <td>0.263198</td>\n",
       "    </tr>\n",
       "  </tbody>\n",
       "</table>\n",
       "</div>"
      ],
      "text/plain": [
       "    euclidean_norm\n",
       "x1        0.004149\n",
       "x2        0.092171\n",
       "x3        0.007812\n",
       "x4        0.044085\n",
       "x5        0.263198"
      ]
     },
     "execution_count": 29,
     "metadata": {},
     "output_type": "execute_result"
    }
   ],
   "source": [
    "# puts mappings into a dataframe\n",
    "df_norm = pd.DataFrame({'euclidean_norm': eucl_norm},index=ind)\n",
    "df_norm"
   ]
  },
  {
   "cell_type": "markdown",
   "metadata": {},
   "source": [
    "The table above shows the Euclidean distance between all of the data points and the new data point when all points are normalized to a length of 1."
   ]
  },
  {
   "cell_type": "code",
   "execution_count": 30,
   "metadata": {},
   "outputs": [
    {
     "data": {
      "text/html": [
       "<div>\n",
       "<style scoped>\n",
       "    .dataframe tbody tr th:only-of-type {\n",
       "        vertical-align: middle;\n",
       "    }\n",
       "\n",
       "    .dataframe tbody tr th {\n",
       "        vertical-align: top;\n",
       "    }\n",
       "\n",
       "    .dataframe thead th {\n",
       "        text-align: right;\n",
       "    }\n",
       "</style>\n",
       "<table border=\"1\" class=\"dataframe\">\n",
       "  <thead>\n",
       "    <tr style=\"text-align: right;\">\n",
       "      <th></th>\n",
       "      <th>euclidean_norm</th>\n",
       "    </tr>\n",
       "  </thead>\n",
       "  <tbody>\n",
       "    <tr>\n",
       "      <th>x1</th>\n",
       "      <td>1.0</td>\n",
       "    </tr>\n",
       "    <tr>\n",
       "      <th>x2</th>\n",
       "      <td>4.0</td>\n",
       "    </tr>\n",
       "    <tr>\n",
       "      <th>x3</th>\n",
       "      <td>2.0</td>\n",
       "    </tr>\n",
       "    <tr>\n",
       "      <th>x4</th>\n",
       "      <td>3.0</td>\n",
       "    </tr>\n",
       "    <tr>\n",
       "      <th>x5</th>\n",
       "      <td>5.0</td>\n",
       "    </tr>\n",
       "  </tbody>\n",
       "</table>\n",
       "</div>"
      ],
      "text/plain": [
       "    euclidean_norm\n",
       "x1             1.0\n",
       "x2             4.0\n",
       "x3             2.0\n",
       "x4             3.0\n",
       "x5             5.0"
      ]
     },
     "execution_count": 30,
     "metadata": {},
     "output_type": "execute_result"
    }
   ],
   "source": [
    "# shows rank \n",
    "df_norm.rank()"
   ]
  },
  {
   "cell_type": "markdown",
   "metadata": {},
   "source": [
    "The rank in order of similarity for normalized Euclidean distance:  \n",
    "\n",
    "normalized euclidean: x1, x3, x4, x2, x5"
   ]
  },
  {
   "cell_type": "markdown",
   "metadata": {},
   "source": [
    "## Chapter 3"
   ]
  },
  {
   "cell_type": "markdown",
   "metadata": {},
   "source": [
    "**[3.3] Exercise 2.2 gave the following data for the attribute age: 13, 15, 16, 16, 19, 20, 20, 21, 22, 22, 25, 25, 25, 25, 30, 33, 33, 35, 35, 35, 35, 36, 40, 45, 46, 52, 70.**"
   ]
  },
  {
   "cell_type": "markdown",
   "metadata": {},
   "source": [
    "**(a) Use smoothing by bin means to smooth these data, using a bin depth of 3. Illustrate you steps. Comment on the effect of this technique for the given data.**"
   ]
  },
  {
   "cell_type": "markdown",
   "metadata": {},
   "source": [
    "To see the effect of binning on the data, it makes sense to first run an analysis on the data before binning."
   ]
  },
  {
   "cell_type": "code",
   "execution_count": 31,
   "metadata": {},
   "outputs": [
    {
     "data": {
      "text/plain": [
       "29.96"
      ]
     },
     "execution_count": 31,
     "metadata": {},
     "output_type": "execute_result"
    }
   ],
   "source": [
    "import numpy as np\n",
    "ages = [13, 15, 16, 16, 19, 20, 20, 21, 22, 22, 25, 25, 25, 25, \n",
    "        30, 33, 33, 35, 35, 35, 35, 36, 40, 45, 46, 52, 70]\n",
    "mn = np.mean(ages)\n",
    "round(mn,2)"
   ]
  },
  {
   "cell_type": "markdown",
   "metadata": {},
   "source": [
    "The mean of this data set is 29.96"
   ]
  },
  {
   "cell_type": "code",
   "execution_count": 32,
   "metadata": {},
   "outputs": [
    {
     "data": {
      "text/plain": [
       "25.0"
      ]
     },
     "execution_count": 32,
     "metadata": {},
     "output_type": "execute_result"
    }
   ],
   "source": [
    "md = np.median(ages)\n",
    "round(md, 2)"
   ]
  },
  {
   "cell_type": "markdown",
   "metadata": {},
   "source": [
    "N = 27, so the median value is 25."
   ]
  },
  {
   "cell_type": "code",
   "execution_count": 33,
   "metadata": {},
   "outputs": [
    {
     "data": {
      "text/plain": [
       "<matplotlib.axes._subplots.AxesSubplot at 0x11bc3ca90>"
      ]
     },
     "execution_count": 33,
     "metadata": {},
     "output_type": "execute_result"
    },
    {
     "data": {
      "image/png": "[encoded data removed]",
      "text/plain": [
       "<Figure size 432x288 with 1 Axes>"
      ]
     },
     "metadata": {},
     "output_type": "display_data"
    }
   ],
   "source": [
    "import pandas as pd\n",
    "mo = [[x,ages.count(x)] for x in set(ages)]\n",
    "df = pd.DataFrame(mo, columns=['age', 'count']).sort_values(by='age')\n",
    "df.plot.bar(x='age', y='count', color='steelblue')"
   ]
  },
  {
   "cell_type": "markdown",
   "metadata": {},
   "source": [
    "The mode of this data set is 25 and 35. Based on the plot above, the plot appears to be bimodal in nature."
   ]
  },
  {
   "cell_type": "code",
   "execution_count": 34,
   "metadata": {},
   "outputs": [
    {
     "data": {
      "text/plain": [
       "28.5"
      ]
     },
     "execution_count": 34,
     "metadata": {},
     "output_type": "execute_result"
    }
   ],
   "source": [
    "midrange = (max(ages) - min(ages))/2\n",
    "midrange"
   ]
  },
  {
   "cell_type": "markdown",
   "metadata": {},
   "source": [
    "The midrange is defined as the average of the maximum and the minimum values of a data set. In this data set, the midrange is 28.5."
   ]
  },
  {
   "cell_type": "code",
   "execution_count": 35,
   "metadata": {},
   "outputs": [
    {
     "data": {
      "text/html": [
       "<div>\n",
       "<style scoped>\n",
       "    .dataframe tbody tr th:only-of-type {\n",
       "        vertical-align: middle;\n",
       "    }\n",
       "\n",
       "    .dataframe tbody tr th {\n",
       "        vertical-align: top;\n",
       "    }\n",
       "\n",
       "    .dataframe thead th {\n",
       "        text-align: right;\n",
       "    }\n",
       "</style>\n",
       "<table border=\"1\" class=\"dataframe\">\n",
       "  <thead>\n",
       "    <tr style=\"text-align: right;\">\n",
       "      <th></th>\n",
       "      <th>age</th>\n",
       "    </tr>\n",
       "  </thead>\n",
       "  <tbody>\n",
       "    <tr>\n",
       "      <th>count</th>\n",
       "      <td>27.000000</td>\n",
       "    </tr>\n",
       "    <tr>\n",
       "      <th>mean</th>\n",
       "      <td>29.962963</td>\n",
       "    </tr>\n",
       "    <tr>\n",
       "      <th>std</th>\n",
       "      <td>12.942124</td>\n",
       "    </tr>\n",
       "    <tr>\n",
       "      <th>min</th>\n",
       "      <td>13.000000</td>\n",
       "    </tr>\n",
       "    <tr>\n",
       "      <th>25%</th>\n",
       "      <td>20.500000</td>\n",
       "    </tr>\n",
       "    <tr>\n",
       "      <th>50%</th>\n",
       "      <td>25.000000</td>\n",
       "    </tr>\n",
       "    <tr>\n",
       "      <th>75%</th>\n",
       "      <td>35.000000</td>\n",
       "    </tr>\n",
       "    <tr>\n",
       "      <th>max</th>\n",
       "      <td>70.000000</td>\n",
       "    </tr>\n",
       "  </tbody>\n",
       "</table>\n",
       "</div>"
      ],
      "text/plain": [
       "             age\n",
       "count  27.000000\n",
       "mean   29.962963\n",
       "std    12.942124\n",
       "min    13.000000\n",
       "25%    20.500000\n",
       "50%    25.000000\n",
       "75%    35.000000\n",
       "max    70.000000"
      ]
     },
     "execution_count": 35,
     "metadata": {},
     "output_type": "execute_result"
    }
   ],
   "source": [
    "df2 = pd.DataFrame(ages, columns=['age'])\n",
    "df2.describe()"
   ]
  },
  {
   "cell_type": "markdown",
   "metadata": {},
   "source": [
    "The five number summary is:  \n",
    "Min = 13.0  \n",
    "First quartile (Q1) = 20.5  \n",
    "Median (Q2) = 25.0  \n",
    "Third quartile (Q3) = 35.0  \n",
    "Max = 70"
   ]
  },
  {
   "cell_type": "code",
   "execution_count": 36,
   "metadata": {},
   "outputs": [
    {
     "data": {
      "text/plain": [
       "<matplotlib.axes._subplots.AxesSubplot at 0x11bd4d160>"
      ]
     },
     "execution_count": 36,
     "metadata": {},
     "output_type": "execute_result"
    },
    {
     "data": {
      "image/png": "[encoded data removed]",
      "text/plain": [
       "<Figure size 432x288 with 1 Axes>"
      ]
     },
     "metadata": {},
     "output_type": "display_data"
    }
   ],
   "source": [
    "df2.boxplot()"
   ]
  },
  {
   "cell_type": "markdown",
   "metadata": {},
   "source": [
    "The boxplot is shown above."
   ]
  },
  {
   "cell_type": "markdown",
   "metadata": {},
   "source": [
    "Now we can bin the data and see the affect it has on the analysis. Details on how the bins were calculated is shown in the code comments."
   ]
  },
  {
   "cell_type": "code",
   "execution_count": 37,
   "metadata": {},
   "outputs": [
    {
     "name": "stdout",
     "output_type": "stream",
     "text": [
      "bin 1 :  14.67, 14.67, 14.67, \n",
      "bin 2 :  18.33, 18.33, 18.33, \n",
      "bin 3 :  21.0, 21.0, 21.0, \n",
      "bin 4 :  24.0, 24.0, 24.0, \n",
      "bin 5 :  26.67, 26.67, 26.67, \n",
      "bin 6 :  33.67, 33.67, 33.67, \n",
      "bin 7 :  35.0, 35.0, 35.0, \n",
      "bin 8 :  40.33, 40.33, 40.33, \n",
      "bin 9 :  56.0, 56.0, 56.0, \n"
     ]
    }
   ],
   "source": [
    "import math\n",
    "ages = [13, 15, 16, 16, 19, 20, 20, 21, 22, 22, 25, 25, \n",
    "        25, 25, 30, 33, 33, 35, 35, 35, 35, 36, 40, 45, 46, 52, 70]\n",
    "\n",
    "# bin the data\n",
    "def bin_data(data, width):\n",
    "    # make a copy of the data\n",
    "    data_copy = data\n",
    "    \n",
    "    #calculate the number of bins based on width param\n",
    "    bins = math.ceil(len(data) / width)\n",
    "    \n",
    "    # loop through the bins\n",
    "    for i in range(bins):\n",
    "        \n",
    "        # for each bin, set the sum to 0\n",
    "        sum = 0\n",
    "        \n",
    "        # for each value within each bin,  \n",
    "        for j in range(width):\n",
    "            \n",
    "            # sum the values in the bin\n",
    "            sum = sum + data[width * i + j]\n",
    "        \n",
    "        # get the bin average by dividing by width\n",
    "        avg = sum / width\n",
    "        \n",
    "        # print the bins and values\n",
    "        print('bin',i+1,': ',(str(round(avg,2))+', ')*3)\n",
    "        \n",
    "        # replace each value in data_copy with the average of the bin\n",
    "        for j in range(width):\n",
    "            data_copy[width * i + j] = avg\n",
    "            \n",
    "    # return the list of bin means\n",
    "    return data_copy\n",
    "\n",
    "bin_ages = bin_data(ages,3)"
   ]
  },
  {
   "cell_type": "code",
   "execution_count": 38,
   "metadata": {},
   "outputs": [
    {
     "data": {
      "text/plain": [
       "29.96"
      ]
     },
     "execution_count": 38,
     "metadata": {},
     "output_type": "execute_result"
    }
   ],
   "source": [
    "mn = np.mean(bin_ages)\n",
    "round(mn,2)"
   ]
  },
  {
   "cell_type": "code",
   "execution_count": 39,
   "metadata": {},
   "outputs": [
    {
     "data": {
      "text/plain": [
       "26.67"
      ]
     },
     "execution_count": 39,
     "metadata": {},
     "output_type": "execute_result"
    }
   ],
   "source": [
    "md = np.median(bin_ages)\n",
    "round(md, 2)"
   ]
  },
  {
   "cell_type": "code",
   "execution_count": 40,
   "metadata": {},
   "outputs": [
    {
     "data": {
      "text/plain": [
       "<matplotlib.axes._subplots.AxesSubplot at 0x11be1ba58>"
      ]
     },
     "execution_count": 40,
     "metadata": {},
     "output_type": "execute_result"
    },
    {
     "data": {
      "image/png": "[encoded data removed]",
      "text/plain": [
       "<Figure size 432x288 with 1 Axes>"
      ]
     },
     "metadata": {},
     "output_type": "display_data"
    }
   ],
   "source": [
    "mo = [[x,bin_ages.count(x)] for x in set(bin_ages)]\n",
    "df3 = pd.DataFrame(mo, columns=['age', 'count']).sort_values(by='age')\n",
    "df3.plot.bar(x='age', y='count', color='steelblue')"
   ]
  },
  {
   "cell_type": "code",
   "execution_count": 41,
   "metadata": {},
   "outputs": [
    {
     "data": {
      "text/plain": [
       "20.666666666666668"
      ]
     },
     "execution_count": 41,
     "metadata": {},
     "output_type": "execute_result"
    }
   ],
   "source": [
    "midrange = (max(bin_ages) - min(bin_ages))/2\n",
    "midrange"
   ]
  },
  {
   "cell_type": "code",
   "execution_count": 42,
   "metadata": {},
   "outputs": [
    {
     "data": {
      "text/html": [
       "<div>\n",
       "<style scoped>\n",
       "    .dataframe tbody tr th:only-of-type {\n",
       "        vertical-align: middle;\n",
       "    }\n",
       "\n",
       "    .dataframe tbody tr th {\n",
       "        vertical-align: top;\n",
       "    }\n",
       "\n",
       "    .dataframe thead th {\n",
       "        text-align: right;\n",
       "    }\n",
       "</style>\n",
       "<table border=\"1\" class=\"dataframe\">\n",
       "  <thead>\n",
       "    <tr style=\"text-align: right;\">\n",
       "      <th></th>\n",
       "      <th>age</th>\n",
       "    </tr>\n",
       "  </thead>\n",
       "  <tbody>\n",
       "    <tr>\n",
       "      <th>count</th>\n",
       "      <td>27.000000</td>\n",
       "    </tr>\n",
       "    <tr>\n",
       "      <th>mean</th>\n",
       "      <td>29.962963</td>\n",
       "    </tr>\n",
       "    <tr>\n",
       "      <th>std</th>\n",
       "      <td>12.343839</td>\n",
       "    </tr>\n",
       "    <tr>\n",
       "      <th>min</th>\n",
       "      <td>14.666667</td>\n",
       "    </tr>\n",
       "    <tr>\n",
       "      <th>25%</th>\n",
       "      <td>21.000000</td>\n",
       "    </tr>\n",
       "    <tr>\n",
       "      <th>50%</th>\n",
       "      <td>26.666667</td>\n",
       "    </tr>\n",
       "    <tr>\n",
       "      <th>75%</th>\n",
       "      <td>35.000000</td>\n",
       "    </tr>\n",
       "    <tr>\n",
       "      <th>max</th>\n",
       "      <td>56.000000</td>\n",
       "    </tr>\n",
       "  </tbody>\n",
       "</table>\n",
       "</div>"
      ],
      "text/plain": [
       "             age\n",
       "count  27.000000\n",
       "mean   29.962963\n",
       "std    12.343839\n",
       "min    14.666667\n",
       "25%    21.000000\n",
       "50%    26.666667\n",
       "75%    35.000000\n",
       "max    56.000000"
      ]
     },
     "execution_count": 42,
     "metadata": {},
     "output_type": "execute_result"
    }
   ],
   "source": [
    "df4 = pd.DataFrame(bin_ages, columns=['age'])\n",
    "df4.describe()"
   ]
  },
  {
   "cell_type": "markdown",
   "metadata": {},
   "source": [
    "The five number summary comparison (binned vs. not binned) is:  \n",
    "Min = 14.67 vs. 13.0  \n",
    "First quartile (Q1) = 20.5 vs. 21.0  \n",
    "Median (Q2) = 25.0 vs. 26.7  \n",
    "Third quartile (Q3) = 35.0 vs. 35.0  \n",
    "Max = 70 vs. 56  "
   ]
  },
  {
   "cell_type": "code",
   "execution_count": 43,
   "metadata": {},
   "outputs": [
    {
     "data": {
      "text/plain": [
       "<matplotlib.axes._subplots.AxesSubplot at 0x11bee07b8>"
      ]
     },
     "execution_count": 43,
     "metadata": {},
     "output_type": "execute_result"
    },
    {
     "data": {
      "image/png": "[encoded data removed]",
      "text/plain": [
       "<Figure size 432x288 with 1 Axes>"
      ]
     },
     "metadata": {},
     "output_type": "display_data"
    }
   ],
   "source": [
    "df4.boxplot()"
   ]
  },
  {
   "cell_type": "markdown",
   "metadata": {},
   "source": [
    "The most material effect the binning has on the data is smoothing out the one outlier on the high end (70). The mean will not change, and in this case, the Q3 number doesn't change either. The Q1 and Q2 numbers change slightly. Since the data is smoothed, it is not clear now from the data that this is a bi-modal distribution."
   ]
  },
  {
   "cell_type": "markdown",
   "metadata": {},
   "source": [
    "**(b) How might you determine outliers in the data?**"
   ]
  },
  {
   "cell_type": "markdown",
   "metadata": {},
   "source": [
    "For almost any data set, clustering can be used to identify outliers. Per the textbook, \"Outliers may be detected by clustering, for example, where similar values are organized into groups or 'clusters'.\" Histograms and other data visualization techniques can be used to indentify outliers as well. When dealing with a univariate numeric data set, a boxplot can be used to visulaize outliers that fall outside of 1.5x the interquartile range. Points outside this range are generally considered outliers. If the population is assumed to be normally distributed, the standard deviation of the data can be calculated. Within this data set, points that fall outside: $$\\bar{x} \\pm 3\\sigma$$ are generally considered outliers."
   ]
  },
  {
   "cell_type": "markdown",
   "metadata": {},
   "source": [
    "**(c) What other methods are there for data smoothing?**"
   ]
  },
  {
   "cell_type": "markdown",
   "metadata": {},
   "source": [
    "`Binning`: In addition to smoothing by bin means, there are other binning methods to smooth data. These include smoothing by median (where each bin value is replaced by the bin median), and smoothing by bin boundaries (the min and max are identified as bin boundaries and each value is then replaced by the closest value). Bins may be set to equal width, where the range of each bin is equal.  \n",
    "`Regression`: Data smoothing done by regression conforms data values to a function. Per the text: \"Linear regression involves finding the best line to fit two attributes so that one attribute can be used to predict the other.\"  \n",
    "`Outlier analysis`: Outliers may be detected that fall outside of a data cluster and can be smoothed out by analyzing the clusters.\n",
    "\n"
   ]
  },
  {
   "cell_type": "markdown",
   "metadata": {},
   "source": [
    "**[3.5] What are the value ranges of the following normalization methods?**"
   ]
  },
  {
   "cell_type": "markdown",
   "metadata": {},
   "source": [
    "**(a) Max-min normalization**"
   ]
  },
  {
   "cell_type": "markdown",
   "metadata": {},
   "source": [
    "The max-min normalization performs a linear transformation on the original data. The transformed range is typically [0,1] however it does not have to be. The range will be: $$[newMin_{A}, newMax_{A}]$$"
   ]
  },
  {
   "cell_type": "markdown",
   "metadata": {},
   "source": [
    "**(b) z-score normalization**"
   ]
  },
  {
   "cell_type": "markdown",
   "metadata": {},
   "source": [
    "The range will depend on the range of the data, and can be calculated as: $$[\\frac{A_{min}-\\bar{A}}{\\sigma_{A}},\\frac{A_{max}-\\bar{A}}{\\sigma_{A}}]$$"
   ]
  },
  {
   "cell_type": "markdown",
   "metadata": {},
   "source": [
    "**(c) z-score normalization using the neam absolute deviation instead of standard deviation**"
   ]
  },
  {
   "cell_type": "markdown",
   "metadata": {},
   "source": [
    "This will be the same as above only normalizing by mean absolute deviation (s) instead of the standard deviation (sigma). The difference: the mean absolute deviation is more robust to outliers than the standard deviation because the deviations are not squared. The range will be:  $$[\\frac{A_{min}-\\bar{A}}{s_{A}},\\frac{A_{max}-\\bar{A}}{s_{A}}]$$"
   ]
  },
  {
   "cell_type": "markdown",
   "metadata": {},
   "source": [
    "**(d) normalization by decimal scaling**"
   ]
  },
  {
   "cell_type": "markdown",
   "metadata": {},
   "source": [
    "Normalization by decimal scaling moves the decimal points of the values of an attribute of A. Since the data is scaled so such that the absolute max value is scaled to < 1. Therefore, the range will always be: \n",
    "$$(-1, 1)$$"
   ]
  },
  {
   "cell_type": "markdown",
   "metadata": {},
   "source": [
    "**[3.6] Use these methods to normalize the following group of data: 200, 300, 400, 600, 1000**"
   ]
  },
  {
   "cell_type": "markdown",
   "metadata": {},
   "source": [
    "**(a) min-max normalization by setting min=0, max=1**"
   ]
  },
  {
   "cell_type": "code",
   "execution_count": 44,
   "metadata": {},
   "outputs": [
    {
     "data": {
      "text/plain": [
       "[0.0, 0.125, 0.25, 0.5, 1.0]"
      ]
     },
     "execution_count": 44,
     "metadata": {},
     "output_type": "execute_result"
    }
   ],
   "source": [
    "data = (200, 300, 400, 600, 1000)\n",
    "\n",
    "def normalize(pt, mx, mn):\n",
    "    return (pt - mn) / (mx - mn)\n",
    "\n",
    "def mm_norm(data, low, high):\n",
    "    spread = (high - low)\n",
    "    mx = max(data)\n",
    "    mn = min(data)\n",
    "    transform = list(map(lambda x: normalize(x,mx,mn)*spread,data))\n",
    "    return transform\n",
    "  \n",
    "mm_norm(data, 0, 1)"
   ]
  },
  {
   "cell_type": "markdown",
   "metadata": {},
   "source": [
    "**(b) z-score normalization**"
   ]
  },
  {
   "cell_type": "code",
   "execution_count": 45,
   "metadata": {},
   "outputs": [
    {
     "data": {
      "text/plain": [
       "[-1.0606601717798212,\n",
       " -0.7071067811865475,\n",
       " -0.35355339059327373,\n",
       " 0.35355339059327373,\n",
       " 1.7677669529663687]"
      ]
     },
     "execution_count": 45,
     "metadata": {},
     "output_type": "execute_result"
    }
   ],
   "source": [
    "def z_norm(data):\n",
    "    mu = np.mean(data)\n",
    "    sigma = np.std(data)\n",
    "    transform = list(map(lambda x: (x-mu)/sigma,data))\n",
    "    return transform\n",
    "\n",
    "z_norm(data)"
   ]
  },
  {
   "cell_type": "markdown",
   "metadata": {},
   "source": [
    "**(c) z-score normalization using mean absolute deviation**"
   ]
  },
  {
   "cell_type": "code",
   "execution_count": 46,
   "metadata": {},
   "outputs": [
    {
     "data": {
      "text/plain": [
       "[-1.25,\n",
       " -0.8333333333333334,\n",
       " -0.4166666666666667,\n",
       " 0.4166666666666667,\n",
       " 2.0833333333333335]"
      ]
     },
     "execution_count": 46,
     "metadata": {},
     "output_type": "execute_result"
    }
   ],
   "source": [
    "from functools import reduce\n",
    "def mad(data):\n",
    "    mad = reduce(lambda i,j: i+j, list(map(lambda x: abs(x - np.mean(data)),data))) / len(data)\n",
    "    return mad\n",
    "       \n",
    "def z_norm_mad(data):\n",
    "    transform = list(map(lambda x: (x-np.mean(data))/mad(data),data))\n",
    "    return transform\n",
    "\n",
    "z_norm_mad(data)"
   ]
  },
  {
   "cell_type": "markdown",
   "metadata": {},
   "source": [
    "**(d) normalization by decimal scaling**"
   ]
  },
  {
   "cell_type": "code",
   "execution_count": 47,
   "metadata": {},
   "outputs": [
    {
     "data": {
      "text/plain": [
       "[0.02, 0.03, 0.04, 0.06, 0.1]"
      ]
     },
     "execution_count": 47,
     "metadata": {},
     "output_type": "execute_result"
    }
   ],
   "source": [
    "def norm_dec(data, j):\n",
    "    transform = list(map(lambda x: (x/10**j),data))\n",
    "    return transform\n",
    "\n",
    "# j = 4 because the formula requires abs(max)/10^j < 1, not <=1\n",
    "norm_dec(data, 4)"
   ]
  },
  {
   "cell_type": "markdown",
   "metadata": {},
   "source": [
    "**[3.7] Using the data for age given in exercise 3.3, answer the following:**"
   ]
  },
  {
   "cell_type": "markdown",
   "metadata": {},
   "source": [
    "**(a) Use min-max normalization to transform the value 35 for age onthe the range [0.0,1.0]**"
   ]
  },
  {
   "cell_type": "code",
   "execution_count": 48,
   "metadata": {},
   "outputs": [
    {
     "data": {
      "text/plain": [
       "0.4596774193548387"
      ]
     },
     "execution_count": 48,
     "metadata": {},
     "output_type": "execute_result"
    }
   ],
   "source": [
    "mm_norm(ages, 0, 1)[17]"
   ]
  },
  {
   "cell_type": "markdown",
   "metadata": {},
   "source": [
    "**(b) Use z-score normalization to tranform the value 35 for age onto the range [0.0,1.0]**"
   ]
  },
  {
   "cell_type": "code",
   "execution_count": 49,
   "metadata": {},
   "outputs": [
    {
     "data": {
      "text/plain": [
       "0.3057603609074146"
      ]
     },
     "execution_count": 49,
     "metadata": {},
     "output_type": "execute_result"
    }
   ],
   "source": [
    "z_norm(ages)[17]"
   ]
  },
  {
   "cell_type": "markdown",
   "metadata": {},
   "source": [
    "**(c) Use normalization by decimal scaling to transform the value 35 for age.**"
   ]
  },
  {
   "cell_type": "code",
   "execution_count": 50,
   "metadata": {},
   "outputs": [
    {
     "data": {
      "text/plain": [
       "0.33666666666666667"
      ]
     },
     "execution_count": 50,
     "metadata": {},
     "output_type": "execute_result"
    }
   ],
   "source": [
    "norm_dec(ages,2)[17]"
   ]
  },
  {
   "cell_type": "markdown",
   "metadata": {},
   "source": [
    "**(d) Comment on the method you would prefer to use for the given data, giving reasons as to why.**"
   ]
  },
  {
   "cell_type": "markdown",
   "metadata": {},
   "source": [
    "With this data set, the most logical transformation seems to be decimal scaling. Min-max normalization would constrain all future data entries to between 13 and 70. Any data entered outside of this range would result in an out of bounds error. The process of normalizing the data using the z-score normalization process is computationally expensive and doesn't appear to add much information to the data. Typically this process is helpful when the population max/min are unknown, or when there are outliers that dominate the min-max normalization. This data set is a good candidate for decimal scaling because no information is lost in the transformation process but data is normalized to (0,1) with a very simple transformation as long as the max age is <100."
   ]
  },
  {
   "cell_type": "markdown",
   "metadata": {},
   "source": [
    "**[3.11] Using the data for age given in exercise 3.3**"
   ]
  },
  {
   "cell_type": "markdown",
   "metadata": {},
   "source": [
    "**(a) Plot an equal width histogram of width 10**"
   ]
  },
  {
   "cell_type": "code",
   "execution_count": 51,
   "metadata": {},
   "outputs": [
    {
     "data": {
      "text/plain": [
       "array([[<matplotlib.axes._subplots.AxesSubplot object at 0x11bfbc8d0>]],\n",
       "      dtype=object)"
      ]
     },
     "execution_count": 51,
     "metadata": {},
     "output_type": "execute_result"
    },
    {
     "data": {
      "image/png": "[encoded data removed]",
      "text/plain": [
       "<Figure size 432x288 with 1 Axes>"
      ]
     },
     "metadata": {},
     "output_type": "display_data"
    }
   ],
   "source": [
    "df2.hist(bins=[0, 10, 20, 30, 40, 50, 60, 70, 80])"
   ]
  },
  {
   "cell_type": "markdown",
   "metadata": {},
   "source": [
    "**(b) Sketch examples of each of the following sampling techniques: SRSWOR, SRSWR, cluster sampling, stratified sampling. Use samples of size 5 and the strata \"youth\", \"middle-aged\", \"senior\"**"
   ]
  },
  {
   "cell_type": "code",
   "execution_count": 52,
   "metadata": {},
   "outputs": [
    {
     "data": {
      "text/plain": [
       "[24.0,\n",
       " 40.333333333333336,\n",
       " 33.666666666666664,\n",
       " 26.666666666666668,\n",
       " 18.333333333333332]"
      ]
     },
     "execution_count": 52,
     "metadata": {},
     "output_type": "execute_result"
    }
   ],
   "source": [
    "import random\n",
    "\n",
    "def srswor(data,s):\n",
    "    sample = []\n",
    "    used = []\n",
    "    for i in range(s):\n",
    "        rand = random.randint(0, len(data)-1)\n",
    "        while (rand in used):\n",
    "            rand = random.randint(0, len(data)-1)\n",
    "        sample.append(data[rand])\n",
    "        used.append(rand)\n",
    "    return sample\n",
    "\n",
    "srswor(ages,5)"
   ]
  },
  {
   "cell_type": "code",
   "execution_count": 53,
   "metadata": {},
   "outputs": [
    {
     "data": {
      "text/plain": [
       "[26.666666666666668, 24.0, 40.333333333333336, 35.0, 56.0]"
      ]
     },
     "execution_count": 53,
     "metadata": {},
     "output_type": "execute_result"
    }
   ],
   "source": [
    "def srswr(data,s):\n",
    "    sample = []\n",
    "    for i in range(s):\n",
    "        rand = random.randint(0, len(data)-1)\n",
    "        sample.append(data[rand])\n",
    "        used.append(rand)\n",
    "    return sample\n",
    "\n",
    "srswor(ages,5)"
   ]
  },
  {
   "cell_type": "markdown",
   "metadata": {},
   "source": [
    "Cluster sample:\n",
    "<img src=\"src/cluster.png\"/>"
   ]
  },
  {
   "cell_type": "markdown",
   "metadata": {},
   "source": [
    "Stratified sample:\n",
    "\n",
    "| before sampling | | after sampling  | \n",
    "|--------|--------| |--------|--------|\n",
    "| 13     | youth  | | 13     | youth  |\n",
    "| 15     | youth  | | 20     | youth  |\n",
    "| 20     | youth  | | 32     | middle_aged  |\n",
    "| 27     | youth  | | 39     | middle_aged  |\n",
    "| 30     | middle_aged  | | 40     | middle_aged  |\n",
    "| 32     | middle_aged  | | 42     | middle_aged  |\n",
    "| 39     | middle_aged  | | 56     | middle_aged  |\n",
    "| 39     | middle_aged  | | 70     | senior  |\n",
    "| 40     | middle_aged  |\n",
    "| 42     | middle_aged  |\n",
    "| 42     | middle_aged  |\n",
    "| 50     | middle_aged  |\n",
    "| 56     | middle_aged  |\n",
    "| 60     | middle_aged  |\n",
    "| 70     | senior  |\n",
    "| 80     | senior  |"
   ]
  },
  {
   "cell_type": "markdown",
   "metadata": {},
   "source": [
    "**Propose an algorithm for the following:**"
   ]
  },
  {
   "cell_type": "markdown",
   "metadata": {},
   "source": [
    "**(a) The automatic generation of a concept of hierarchy for nominal data based on the number of distict values of attributes in the given schema.**"
   ]
  },
  {
   "cell_type": "code",
   "execution_count": 54,
   "metadata": {},
   "outputs": [
    {
     "name": "stdout",
     "output_type": "stream",
     "text": [
      "(8, 'LEVEL')\n",
      "(56, 'STATENAME')\n",
      "(14453, 'MCITY')\n",
      "(17305, 'LEA_NAME')\n",
      "(85247, 'MSTREET1')\n",
      "(89637, 'SCH_NAME')\n"
     ]
    }
   ],
   "source": [
    "from heapq import heappush, heappop\n",
    "\n",
    "# read in data from file and import sample columns\n",
    "# this sample file reads in data for every school K-12 in the US\n",
    "df = pd.read_csv('schools.csv',usecols=['STATENAME', \n",
    "                                        'SCH_NAME', \n",
    "                                        'LEA_NAME', \n",
    "                                        'MSTREET1', \n",
    "                                        'MCITY', \n",
    "                                        'LEVEL'])\n",
    "\n",
    "# put the column names in a list\n",
    "column_names = list(df.columns.values)\n",
    "\n",
    "# create a 2-D array of values\n",
    "data = df.values\n",
    "\n",
    "# get the number of columns in the data set\n",
    "cols = np.shape(data)[1]\n",
    "\n",
    "# create an empty heap to store the unique count values\n",
    "h = []\n",
    "\n",
    "for i in range(cols):\n",
    "    # slice the data by columns and get the length of the unique values in each column\n",
    "    length = len(set(data.T[i]))\n",
    "    header = column_names[i]\n",
    "    # push the unique values and column header to the heap\n",
    "    heappush(h, (length, header))   \n",
    "\n",
    "#print the heap (from low to high)\n",
    "for i in range(cols):\n",
    "    print(heappop(h))"
   ]
  },
  {
   "cell_type": "markdown",
   "metadata": {},
   "source": [
    "The data set I used is the data for every K-12 public school in the US.  The steps were loading the data, transforming the data to an array, slicing it by columns, finding the number of unique values in each column (using set in Python which uses hashing), storing those in a heap (for efficiency) and printing in order. The final step is to add a layer of judgement. In this case, 'LEVEL' seems to be the broadest category. However it doesn't really fit into the 'location' schema because it describes the 'type' of school (primary, elementary, middle, high school). However, STATE &rarr; CITY &rarr; DISTRICT &rarr; ADDRESS &rarr; SCHOOL as a heirarchy makes sense. The ADDRESS &rarr; SCHOOL is noteworthy because it suggests that a number of schools may be co-located in one building or campus."
   ]
  },
  {
   "cell_type": "markdown",
   "metadata": {},
   "source": [
    "**(b) The automatic generation of a concept hierarchy for numeric data based on the equal-width partitioning rule.**"
   ]
  },
  {
   "cell_type": "code",
   "execution_count": 55,
   "metadata": {},
   "outputs": [],
   "source": [
    "# import a data set of the average ticket price of each of the 96 NFL game in 2014\n",
    "df = pd.read_csv('prices.csv')\n",
    "\n",
    "# get the list of all prices\n",
    "prices = df['AvgTP'].tolist()\n"
   ]
  },
  {
   "cell_type": "code",
   "execution_count": 56,
   "metadata": {},
   "outputs": [
    {
     "data": {
      "image/png": "[encoded data removed]",
      "text/plain": [
       "<Figure size 720x2160 with 5 Axes>"
      ]
     },
     "metadata": {},
     "output_type": "display_data"
    }
   ],
   "source": [
    "import matplotlib.pyplot as plt\n",
    "import numpy as np\n",
    "\n",
    "# calculate equal width frequency  \n",
    "# params: data, starting point, width of bin\n",
    "def eqw_bin(data, start, width):\n",
    "    # sort the data\n",
    "    data.sort()\n",
    "    # create a new array for the bin names\n",
    "    x = []\n",
    "    # create a new array for the bin frequency\n",
    "    y = []    \n",
    "    # start where user specifies\n",
    "    curr_min = start\n",
    "    # start the bin count\n",
    "    count = 0\n",
    "    # for each value in the data set\n",
    "    for i in range(len(data)): \n",
    "        # if the value is in the current bin, count it\n",
    "        if (data[i] < curr_min + width):\n",
    "            count += 1\n",
    "        # if not, append the current count and name to appropriate array\n",
    "        # increment the bin min value to the next bin (current + width)\n",
    "        # reset the counter for this bin\n",
    "        # wrap in a while loop to accomodate empty bins\n",
    "        # once the correct bin is found, incremenbt the counter\n",
    "        else:\n",
    "            while (data[i] >= curr_min + width):\n",
    "                y.append(count)\n",
    "                x.append(str(int(curr_min))+' - '+str(int(curr_min+width)))\n",
    "                curr_min += width\n",
    "                count = 0;\n",
    "            count += 1\n",
    "        # handle the edge case of the last value in the array\n",
    "        if(i == len(data)-1):\n",
    "            y.append(count)\n",
    "            x.append(str(int(curr_min))+' - '+str(int(curr_min+width)))\n",
    "    # return the two arrays\n",
    "    return (x,y)\n",
    " \n",
    "# run the above equation multiple times based on a specified min_ and max_width and number of times to run\n",
    "def eqw_rec(data, start, min_width, max_width, levels):\n",
    "    step = (max_width - min_width) / levels\n",
    "    fig, axs = plt.subplots(levels, 1, figsize=(10, 30))\n",
    "    for i in range(levels):\n",
    "        new_data = eqw_bin(data, start, min_width+i*step)\n",
    "        axs[i].bar(new_data[0],new_data[1])\n",
    "        axs[i].tick_params(rotation=60)\n",
    "        \n",
    "    \n",
    "eqw_rec(prices, 0, 10, 110, 5)    "
   ]
  },
  {
   "cell_type": "code",
   "execution_count": null,
   "metadata": {},
   "outputs": [],
   "source": []
  },
  {
   "cell_type": "code",
   "execution_count": null,
   "metadata": {},
   "outputs": [],
   "source": []
  }
 ],
 "metadata": {
  "kernelspec": {
   "display_name": "Python 3",
   "language": "python",
   "name": "python3"
  },
  "language_info": {
   "codemirror_mode": {
    "name": "ipython",
    "version": 3
   },
   "file_extension": ".py",
   "mimetype": "text/x-python",
   "name": "python",
   "nbconvert_exporter": "python",
   "pygments_lexer": "ipython3",
   "version": "3.6.5"
  }
 },
 "nbformat": 4,
 "nbformat_minor": 2
}
