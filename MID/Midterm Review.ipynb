{
 "cells": [
  {
   "cell_type": "markdown",
   "metadata": {},
   "source": [
    "### Chapter 1"
   ]
  },
  {
   "cell_type": "markdown",
   "metadata": {},
   "source": [
    "#### Why data mining?"
   ]
  },
  {
   "cell_type": "markdown",
   "metadata": {},
   "source": [
    "- The proliferation of devices collecting data, decreased cost to store data, and increased speed and ability to process data has increased the opportunity to turn large sets of data into knowledge with commercial and societal benefits.  \n",
    "  \n",
    "- Example: Turning Google's search data on flu symptoms into flu trends faster than traditional reporting systems. "
   ]
  },
  {
   "cell_type": "markdown",
   "metadata": {},
   "source": [
    "#### What is data mining?"
   ]
  },
  {
   "cell_type": "markdown",
   "metadata": {},
   "source": [
    "- Data mining the process of discovering interesting patterns from massive amounts of data. It is extracting non-trivial, previously unknown knowledge from large quantities of data by automated or semi-automated means.\n",
    "- The process is:\n",
    "    - *preprocessing*: feature selection, dimensionality reduction, normalization, data subsetting\n",
    "    - *mining*: methods applied to extract patterns\n",
    "    - *postprocessing*: filtering patterns, visualization, interpretation"
   ]
  },
  {
   "cell_type": "markdown",
   "metadata": {},
   "source": [
    "#### What kind of data can be mined?"
   ]
  },
  {
   "cell_type": "markdown",
   "metadata": {},
   "source": [
    "- While nearly any type of data can be mined, relational and transactional data in databases are common sources. "
   ]
  },
  {
   "cell_type": "markdown",
   "metadata": {},
   "source": [
    "#### What kind of patterns can be mined?"
   ]
  },
  {
   "cell_type": "markdown",
   "metadata": {},
   "source": [
    "- Data mining tasks can be classified as:\n",
    "    - *descriptive*: find human interpretable patterns that describe the data.\n",
    "    - *predictive*: Use variables to predict unknown future values of other variables."
   ]
  },
  {
   "cell_type": "markdown",
   "metadata": {},
   "source": [
    "- Descriptive tasks (descriptive, supervised):\n",
    "    - *data characterization*: summarizing the data of the class in general terms. For example, summarize the general characteristics of customers who spend more than $5,000 / yr \"big spenders\". The general profile may include income, credit, age, etc.\n",
    "    - *data discrimination*: similar to data characterization, but comparing two classes. For example, how does the general profile of a \"frequent shopper\" differ from an \"infrequent shopper\"."
   ]
  },
  {
   "cell_type": "markdown",
   "metadata": {},
   "source": [
    "- Frequent patterns, associations and correlations (predictive, supervised):\n",
    "    - *frequent patterns*: patterns that occur frequently in the data\n",
    "    - *association analysis*: a predictive attribute such as 'buy' that repeats in the data. "
   ]
  },
  {
   "cell_type": "markdown",
   "metadata": {},
   "source": [
    "- Classification and regression (predictive, supervised):\n",
    "    - *classification*: the process of finding a model that distinguishes data classes or concepts. The process relies on labeled data. Decision trees, neural networks, naive Bayes, k-nearest neighbor are common classification methods. Example: model for predicting creditworthiness (decision tree), classifying a breed of dog (neural network).\n",
    "    - *regression*: similar to classification, but models continuous valued functions, used to predict missing numerical value. Example: predict sales based on ad spend, stock price, wind speed, etc."
   ]
  },
  {
   "cell_type": "markdown",
   "metadata": {},
   "source": [
    "- Cluster Analysis (descriptive, unsupervised):\n",
    "    - *cluster analysis*: finding groups of objects that minimize intra-cluster distance and maximize inter-cluster distance. Does not consult labels. Examples include market segmentation and text similarity analysis. "
   ]
  },
  {
   "cell_type": "markdown",
   "metadata": {},
   "source": [
    "- Outlier analysis:\n",
    "    - Data that does not comply with the model. In some situations, such as fraud detection, network invasion, deforestation: anomaly mining is more interesting than the regular occurrences. "
   ]
  },
  {
   "cell_type": "markdown",
   "metadata": {},
   "source": [
    "- Not all patterns are interesting. A pattern is interesting if it is: easily understood, valid on new data, useful and new. Association analysis examples that may be interesting: market basket analysis, alarm diagnosis, medical diagnosis. "
   ]
  },
  {
   "cell_type": "markdown",
   "metadata": {},
   "source": [
    "#### Which technologies are used? "
   ]
  },
  {
   "cell_type": "markdown",
   "metadata": {},
   "source": [
    "- Data mining has incorporated many techniques from other domains such as stats, ML, database systems.  Data mining is closely related to all of these disciplines. \n",
    "- It is not uniquely a transformation or application of one of these disciplines but rather an evolution of all of them in response to the need for “effective, scalable, and flexible data analysis in our society”. \n",
    "- As data sets become massive and diverse, data mining techniques must be computationally efficient, handle various data types and produce effective results. This is distinct from the more constrained and controlled worlds of traditional disciplines such as statistics."
   ]
  },
  {
   "cell_type": "markdown",
   "metadata": {},
   "source": [
    "#### Major issues in data mining"
   ]
  },
  {
   "cell_type": "markdown",
   "metadata": {},
   "source": [
    "- The main challenge presented when mining a huge amount of data is the efficiency and scalability of the data mining algorithm used to store and process the data effectively.  Finding an algorithm that can process the data effectively, efficiently and increasingly in real-time.\n",
    "- Another challenge is dealing with the increasing diversity of data types. Data is no longer of a uniform data type and stored neatly in a relational database. It is diverse, dynamic and distributed. One way to deal with these challenges is to utilize parallel and distributed data-intensive mining algorithms."
   ]
  },
  {
   "cell_type": "code",
   "execution_count": null,
   "metadata": {},
   "outputs": [],
   "source": []
  }
 ],
 "metadata": {
  "kernelspec": {
   "display_name": "Python 3",
   "language": "python",
   "name": "python3"
  },
  "language_info": {
   "codemirror_mode": {
    "name": "ipython",
    "version": 3
   },
   "file_extension": ".py",
   "mimetype": "text/x-python",
   "name": "python",
   "nbconvert_exporter": "python",
   "pygments_lexer": "ipython3",
   "version": "3.6.5"
  }
 },
 "nbformat": 4,
 "nbformat_minor": 2
}
