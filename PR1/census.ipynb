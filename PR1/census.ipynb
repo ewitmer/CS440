{
 "cells": [
  {
   "cell_type": "code",
   "execution_count": 6,
   "metadata": {},
   "outputs": [],
   "source": [
    "from apriori import Apriori\n",
    "import pandas as pd\n",
    "import math\n",
    "import seaborn as sns\n",
    "import collections\n",
    "import itertools\n",
    "\n",
    "test = {'T100':['M','O','N','K','E','Y'],\n",
    "        'T200':['D','O','N','K','E','Y'],\n",
    "        'T300':['M','A','K','E'],\n",
    "        'T400':['M','U','C','K','Y'], \n",
    "        'T500':['C','O','O','K','I','E']}\n",
    "    \n",
    "# data set adult.data\n",
    "url=\"http://archive.ics.uci.edu/ml/machine-learning-databases/adult/adult.data\"\n",
    "\n",
    "# data headers from adult.names\n",
    "headers = [\n",
    "    'age',\n",
    "    'workclass',\n",
    "    'fnlwgt',\n",
    "    'education',\n",
    "    'education-num',\n",
    "    'marital-status',\n",
    "    'occupation',\n",
    "    'relationship',\n",
    "    'race',\n",
    "    'sex',\n",
    "    'capital-gain',\n",
    "    'capital-loss',\n",
    "    'hours-per-week',\n",
    "    'native-country',\n",
    "    'income',\n",
    "]\n",
    "\n",
    "# read data into pandas\n",
    "#data=pd.read_csv(url,names=headers)\n",
    "a = \n"
   ]
  },
  {
   "cell_type": "code",
   "execution_count": null,
   "metadata": {},
   "outputs": [],
   "source": []
  },
  {
   "cell_type": "code",
   "execution_count": null,
   "metadata": {},
   "outputs": [],
   "source": []
  }
 ],
 "metadata": {
  "kernelspec": {
   "display_name": "Python 3",
   "language": "python",
   "name": "python3"
  },
  "language_info": {
   "codemirror_mode": {
    "name": "ipython",
    "version": 3
   },
   "file_extension": ".py",
   "mimetype": "text/x-python",
   "name": "python",
   "nbconvert_exporter": "python",
   "pygments_lexer": "ipython3",
   "version": "3.6.5"
  }
 },
 "nbformat": 4,
 "nbformat_minor": 2
}
